{
 "cells": [
  {
   "cell_type": "markdown",
   "metadata": {
    "colab_type": "text",
    "id": "4embtkV0pNxM"
   },
   "source": [
    "Deep Learning\n",
    "=============\n",
    "\n",
    "Assignment 4\n",
    "------------\n",
    "\n",
    "Previously in `2_fullyconnected.ipynb` and `3_regularization.ipynb`, we trained fully connected networks to classify [notMNIST](http://yaroslavvb.blogspot.com/2011/09/notmnist-dataset.html) characters.\n",
    "\n",
    "The goal of this assignment is make the neural network convolutional."
   ]
  },
  {
   "cell_type": "code",
   "execution_count": 10,
   "metadata": {
    "cellView": "both",
    "colab": {
     "autoexec": {
      "startup": false,
      "wait_interval": 0
     }
    },
    "colab_type": "code",
    "collapsed": true,
    "id": "tm2CQN_Cpwj0"
   },
   "outputs": [],
   "source": [
    "# These are all the modules we'll be using later. Make sure you can import them\n",
    "# before proceeding further.\n",
    "from __future__ import print_function\n",
    "import numpy as np\n",
    "import tensorflow as tf\n",
    "from six.moves import cPickle as pickle\n",
    "from six.moves import range\n",
    "import pandas as pd\n",
    "%matplotlib inline"
   ]
  },
  {
   "cell_type": "code",
   "execution_count": 2,
   "metadata": {
    "cellView": "both",
    "colab": {
     "autoexec": {
      "startup": false,
      "wait_interval": 0
     },
     "output_extras": [
      {
       "item_id": 1
      }
     ]
    },
    "colab_type": "code",
    "collapsed": false,
    "executionInfo": {
     "elapsed": 11948,
     "status": "ok",
     "timestamp": 1446658914837,
     "user": {
      "color": "",
      "displayName": "",
      "isAnonymous": false,
      "isMe": true,
      "permissionId": "",
      "photoUrl": "",
      "sessionId": "0",
      "userId": ""
     },
     "user_tz": 480
    },
    "id": "y3-cj1bpmuxc",
    "outputId": "016b1a51-0290-4b08-efdb-8c95ffc3cd01"
   },
   "outputs": [
    {
     "name": "stdout",
     "output_type": "stream",
     "text": [
      "Training set (200000, 28, 28) (200000,)\n",
      "Validation set (10000, 28, 28) (10000,)\n",
      "Test set (10000, 28, 28) (10000,)\n"
     ]
    }
   ],
   "source": [
    "pickle_file = 'notMNIST.pickle'\n",
    "\n",
    "with open(pickle_file, 'rb') as f:\n",
    "    save = pickle.load(f)\n",
    "    train_dataset = save['train_dataset']\n",
    "    train_labels = save['train_labels']\n",
    "    valid_dataset = save['valid_dataset']\n",
    "    valid_labels = save['valid_labels']\n",
    "    test_dataset = save['test_dataset']\n",
    "    test_labels = save['test_labels']\n",
    "    del save  # hint to help gc free up memory\n",
    "    print('Training set', train_dataset.shape, train_labels.shape)\n",
    "    print('Validation set', valid_dataset.shape, valid_labels.shape)\n",
    "    print('Test set', test_dataset.shape, test_labels.shape)"
   ]
  },
  {
   "cell_type": "markdown",
   "metadata": {
    "colab_type": "text",
    "id": "L7aHrm6nGDMB"
   },
   "source": [
    "Reformat into a TensorFlow-friendly shape:\n",
    "- convolutions need the image data formatted as a cube (width by height by #channels)\n",
    "- labels as float 1-hot encodings."
   ]
  },
  {
   "cell_type": "code",
   "execution_count": 3,
   "metadata": {
    "cellView": "both",
    "colab": {
     "autoexec": {
      "startup": false,
      "wait_interval": 0
     },
     "output_extras": [
      {
       "item_id": 1
      }
     ]
    },
    "colab_type": "code",
    "collapsed": false,
    "executionInfo": {
     "elapsed": 11952,
     "status": "ok",
     "timestamp": 1446658914857,
     "user": {
      "color": "",
      "displayName": "",
      "isAnonymous": false,
      "isMe": true,
      "permissionId": "",
      "photoUrl": "",
      "sessionId": "0",
      "userId": ""
     },
     "user_tz": 480
    },
    "id": "IRSyYiIIGIzS",
    "outputId": "650a208c-8359-4852-f4f5-8bf10e80ef6c"
   },
   "outputs": [
    {
     "name": "stdout",
     "output_type": "stream",
     "text": [
      "Training set (200000, 28, 28, 1) (200000, 10)\n",
      "Validation set (10000, 28, 28, 1) (10000, 10)\n",
      "Test set (10000, 28, 28, 1) (10000, 10)\n"
     ]
    }
   ],
   "source": [
    "image_size = 28\n",
    "num_labels = 10\n",
    "num_channels = 1 # grayscale\n",
    "\n",
    "import numpy as np\n",
    "\n",
    "def reformat(dataset, labels):\n",
    "    dataset = dataset.reshape(\n",
    "        (-1, image_size, image_size, num_channels)\n",
    "    ).astype(np.float32)\n",
    "    labels = (np.arange(num_labels) == labels[:,None]).astype(np.float32)\n",
    "    return dataset, labels\n",
    "\n",
    "train_dataset, train_labels = reformat(train_dataset, train_labels)\n",
    "valid_dataset, valid_labels = reformat(valid_dataset, valid_labels)\n",
    "test_dataset, test_labels = reformat(test_dataset, test_labels)\n",
    "\n",
    "print('Training set', train_dataset.shape, train_labels.shape)\n",
    "print('Validation set', valid_dataset.shape, valid_labels.shape)\n",
    "print('Test set', test_dataset.shape, test_labels.shape)"
   ]
  },
  {
   "cell_type": "code",
   "execution_count": 4,
   "metadata": {
    "cellView": "both",
    "colab": {
     "autoexec": {
      "startup": false,
      "wait_interval": 0
     }
    },
    "colab_type": "code",
    "collapsed": true,
    "id": "AgQDIREv02p1"
   },
   "outputs": [],
   "source": [
    "def accuracy(predictions, labels):\n",
    "    return (100.0 * np.sum(np.argmax(predictions, 1) == np.argmax(labels, 1)) / predictions.shape[0])"
   ]
  },
  {
   "cell_type": "markdown",
   "metadata": {
    "colab_type": "text",
    "id": "5rhgjmROXu2O"
   },
   "source": [
    "Let's build a small network with two convolutional layers, followed by one fully connected layer. Convolutional networks are more expensive computationally, so we'll limit its depth and number of fully connected nodes."
   ]
  },
  {
   "cell_type": "code",
   "execution_count": 5,
   "metadata": {
    "cellView": "both",
    "colab": {
     "autoexec": {
      "startup": false,
      "wait_interval": 0
     }
    },
    "colab_type": "code",
    "collapsed": true,
    "id": "IZYv70SvvOan"
   },
   "outputs": [],
   "source": [
    "batch_size = 16\n",
    "patch_size = 5\n",
    "depth = 16\n",
    "num_hidden = 64\n",
    "\n",
    "graph = tf.Graph()\n",
    "\n",
    "with graph.as_default():\n",
    "\n",
    "    # Input data. 16 X 28 X 28 X 64\n",
    "    tf_train_dataset = tf.placeholder(\n",
    "        tf.float32, shape=(batch_size, image_size, image_size, num_channels)\n",
    "    )\n",
    "    tf_train_labels = tf.placeholder(tf.float32, shape=(batch_size, num_labels))\n",
    "    tf_valid_dataset = tf.constant(valid_dataset)\n",
    "    tf_test_dataset = tf.constant(test_dataset)\n",
    "  \n",
    "    # layer 1: 5 X 5 X 1 X 16\n",
    "    layer1_weights = tf.Variable(\n",
    "        tf.truncated_normal([patch_size, patch_size, num_channels, depth], stddev=0.1)\n",
    "    )\n",
    "    layer1_biases = tf.Variable(tf.zeros([depth]))\n",
    "    \n",
    "    # layer 2: 5 X 5 X 16 X 16\n",
    "    layer2_weights = tf.Variable(\n",
    "        tf.truncated_normal([patch_size, patch_size, depth, depth], stddev=0.1)\n",
    "    )\n",
    "    layer2_biases = tf.Variable(tf.constant(1.0, shape=[depth]))\n",
    "    \n",
    "    # layer 3: 784 X 64\n",
    "    layer3_weights = tf.Variable(\n",
    "        tf.truncated_normal([image_size // 4 * image_size // 4 * depth, num_hidden], stddev=0.1)\n",
    "    )\n",
    "    layer3_biases = tf.Variable(tf.constant(1.0, shape=[num_hidden]))\n",
    "    \n",
    "    # layer 4: 64 X 10\n",
    "    layer4_weights = tf.Variable(\n",
    "        tf.truncated_normal([num_hidden, num_labels], stddev=0.1)\n",
    "    )\n",
    "    layer4_biases = tf.Variable(tf.constant(1.0, shape=[num_labels]))\n",
    "  \n",
    "    # Model.\n",
    "    def model(data):\n",
    "        conv = tf.nn.conv2d(data, layer1_weights, [1, 2, 2, 1], padding='SAME')\n",
    "        hidden = tf.nn.relu(conv + layer1_biases)\n",
    "        \n",
    "        conv = tf.nn.conv2d(hidden, layer2_weights, [1, 2, 2, 1], padding='SAME')\n",
    "        hidden = tf.nn.relu(conv + layer2_biases)\n",
    "        \n",
    "        shape = hidden.get_shape().as_list()\n",
    "        reshape = tf.reshape(hidden, [shape[0], shape[1] * shape[2] * shape[3]])\n",
    "        hidden = tf.nn.relu(tf.matmul(reshape, layer3_weights) + layer3_biases)\n",
    "        \n",
    "        return tf.matmul(hidden, layer4_weights) + layer4_biases\n",
    "  \n",
    "    # Training computation.\n",
    "    logits = model(tf_train_dataset)\n",
    "    loss = tf.reduce_mean(\n",
    "        tf.nn.softmax_cross_entropy_with_logits(logits, tf_train_labels)\n",
    "    )\n",
    "\n",
    "    # Optimizer.\n",
    "    optimizer = tf.train.GradientDescentOptimizer(0.05).minimize(loss)\n",
    "\n",
    "    # Predictions for the training, validation, and test data.\n",
    "    train_prediction = tf.nn.softmax(logits)\n",
    "    valid_prediction = tf.nn.softmax(model(tf_valid_dataset))\n",
    "    test_prediction = tf.nn.softmax(model(tf_test_dataset))"
   ]
  },
  {
   "cell_type": "code",
   "execution_count": 11,
   "metadata": {
    "cellView": "both",
    "colab": {
     "autoexec": {
      "startup": false,
      "wait_interval": 0
     },
     "output_extras": [
      {
       "item_id": 37
      }
     ]
    },
    "colab_type": "code",
    "collapsed": false,
    "executionInfo": {
     "elapsed": 63292,
     "status": "ok",
     "timestamp": 1446658966251,
     "user": {
      "color": "",
      "displayName": "",
      "isAnonymous": false,
      "isMe": true,
      "permissionId": "",
      "photoUrl": "",
      "sessionId": "0",
      "userId": ""
     },
     "user_tz": 480
    },
    "id": "noKFb2UovVFR",
    "outputId": "28941338-2ef9-4088-8bd1-44295661e628",
    "scrolled": true
   },
   "outputs": [
    {
     "name": "stdout",
     "output_type": "stream",
     "text": [
      "Initialized\n",
      "Minibatch loss at step 0: 2.935992\n",
      "Minibatch loss at step 50: 1.949321\n",
      "Minibatch loss at step 100: 1.139719\n",
      "Minibatch loss at step 150: 0.532707\n",
      "Minibatch loss at step 200: 0.952258\n",
      "Minibatch loss at step 250: 1.074901\n",
      "Minibatch loss at step 300: 0.330282\n",
      "Minibatch loss at step 350: 0.500142\n",
      "Minibatch loss at step 400: 0.307414\n",
      "Minibatch loss at step 450: 0.870688\n",
      "Minibatch loss at step 500: 0.830350\n",
      "Minibatch loss at step 550: 0.932541\n",
      "Minibatch loss at step 600: 0.331828\n",
      "Minibatch loss at step 650: 0.842991\n",
      "Minibatch loss at step 700: 0.785157\n",
      "Minibatch loss at step 750: 0.071751\n",
      "Minibatch loss at step 800: 0.535936\n",
      "Minibatch loss at step 850: 0.869091\n",
      "Minibatch loss at step 900: 0.561618\n",
      "Minibatch loss at step 950: 0.626249\n",
      "Minibatch loss at step 1000: 0.509912\n",
      "Test accuracy: 89.8%\n"
     ]
    },
    {
     "data": {
      "text/plain": [
       "<matplotlib.axes._subplots.AxesSubplot at 0x12d74c128>"
      ]
     },
     "execution_count": 11,
     "metadata": {},
     "output_type": "execute_result"
    },
    {
     "data": {
      "image/png": "[encoded data removed]",
      "text/plain": [
       "<matplotlib.figure.Figure at 0x11ef13da0>"
      ]
     },
     "metadata": {},
     "output_type": "display_data"
    }
   ],
   "source": [
    "num_steps = 1001\n",
    "\n",
    "results = []\n",
    "with tf.Session(graph=graph) as session:\n",
    "    tf.initialize_all_variables().run()\n",
    "    \n",
    "    print('Initialized')\n",
    "    \n",
    "    for step in range(num_steps):\n",
    "        offset = (step * batch_size) % (train_labels.shape[0] - batch_size)\n",
    "        batch_data = train_dataset[offset:(offset + batch_size), :, :, :]\n",
    "        batch_labels = train_labels[offset:(offset + batch_size), :]\n",
    "        \n",
    "        _, l, predictions = session.run(\n",
    "            [optimizer, loss, train_prediction],\n",
    "            feed_dict={\n",
    "                tf_train_dataset : batch_data,\n",
    "                tf_train_labels : batch_labels\n",
    "            }\n",
    "        )\n",
    "        \n",
    "        if (step % 50 == 0):\n",
    "            print('Minibatch loss at step %d: %f' % (step, l))\n",
    "#             print('Minibatch accuracy: %.1f%%' % accuracy(predictions, batch_labels))\n",
    "#             print('Validation accuracy: %.1f%%' % accuracy(valid_prediction.eval(), valid_labels))\n",
    "            \n",
    "            results.append({\n",
    "                'minibatch': accuracy(predictions, batch_labels),\n",
    "                'validation': accuracy(valid_prediction.eval(), valid_labels),\n",
    "                'test': accuracy(test_prediction.eval(), test_labels)\n",
    "            })\n",
    "    print('Test accuracy: %.1f%%' % accuracy(test_prediction.eval(), test_labels))\n",
    "    \n",
    "results = pd.DataFrame(results)\n",
    "results.plot()"
   ]
  },
  {
   "cell_type": "markdown",
   "metadata": {
    "colab_type": "text",
    "id": "KedKkn4EutIK"
   },
   "source": [
    "---\n",
    "Problem 1\n",
    "---------\n",
    "\n",
    "The convolutional model above uses convolutions with stride 2 to reduce the dimensionality. Replace the strides by a max pooling operation (`nn.max_pool()`) of stride 2 and kernel size 2.\n",
    "\n",
    "---"
   ]
  },
  {
   "cell_type": "code",
   "execution_count": 42,
   "metadata": {
    "code_folding": [
     7
    ],
    "collapsed": false
   },
   "outputs": [],
   "source": [
    "batch_size = 16\n",
    "patch_size = 5\n",
    "depth = 16\n",
    "num_hidden = 64\n",
    "\n",
    "graph = tf.Graph()\n",
    "\n",
    "with graph.as_default():\n",
    "\n",
    "    # Input data.\n",
    "    tf_train_dataset = tf.placeholder(\n",
    "    tf.float32, shape=(batch_size, image_size, image_size, num_channels))\n",
    "    tf_train_labels = tf.placeholder(tf.float32, shape=(batch_size, num_labels))\n",
    "    tf_valid_dataset = tf.constant(valid_dataset)\n",
    "    tf_test_dataset = tf.constant(test_dataset)\n",
    "\n",
    "    # Input data. 16 X 28 X 28 X 64\n",
    "    tf_train_dataset = tf.placeholder(\n",
    "        tf.float32, shape=(batch_size, image_size, image_size, num_channels)\n",
    "    )\n",
    "    tf_train_labels = tf.placeholder(tf.float32, shape=(batch_size, num_labels))\n",
    "    tf_valid_dataset = tf.constant(valid_dataset)\n",
    "    tf_test_dataset = tf.constant(test_dataset)\n",
    "  \n",
    "    # layer 1: 5 X 5 X 1 X 16\n",
    "    layer1_weights = tf.Variable(\n",
    "        tf.truncated_normal([patch_size, patch_size, num_channels, depth], stddev=0.1)\n",
    "    )\n",
    "    layer1_biases = tf.Variable(tf.zeros([depth]))\n",
    "    \n",
    "    # layer 2: 5 X 5 X 16 X 16\n",
    "    layer2_weights = tf.Variable(\n",
    "        tf.truncated_normal([patch_size, patch_size, depth, depth], stddev=0.1)\n",
    "    )\n",
    "    layer2_biases = tf.Variable(tf.constant(1.0, shape=[depth]))\n",
    "    \n",
    "    # layer 3: 784 X 64\n",
    "    layer3_weights = tf.Variable(\n",
    "        tf.truncated_normal(\n",
    "            [\n",
    "                image_size // 4 * image_size // 4 * depth,\n",
    "                num_hidden\n",
    "            ],\n",
    "            stddev=0.1\n",
    "        )\n",
    "    )\n",
    "    layer3_biases = tf.Variable(tf.constant(1.0, shape=[num_hidden]))\n",
    "    \n",
    "    # layer 4: 64 X 10\n",
    "    layer4_weights = tf.Variable(\n",
    "        tf.truncated_normal([num_hidden, num_labels], stddev=0.1)\n",
    "    )\n",
    "    layer4_biases = tf.Variable(tf.constant(1.0, shape=[num_labels]))\n",
    "    \n",
    "    # Model.\n",
    "    def model(data):\n",
    "        layer_1_conv = tf.nn.conv2d(data, layer1_weights, [1, 1, 1, 1], padding='SAME')\n",
    "        layer_1_bias = tf.nn.relu(layer_1_conv + layer1_biases)\n",
    "        layer_1_pool = tf.nn.max_pool(layer_1_bias, [1, 2, 2, 1], [1, 2, 2, 1], padding='SAME')\n",
    "        \n",
    "        layer_2_conv = tf.nn.conv2d(layer_1_pool, layer2_weights, [1, 1, 1, 1], padding='SAME')\n",
    "        layer_2_bias = tf.nn.relu(layer_2_conv + layer2_biases)\n",
    "        layer_2_pool = tf.nn.max_pool(layer_2_bias, [1, 2, 2, 1], [1, 2, 2, 1], padding='SAME')\n",
    "        \n",
    "        shape = layer_2_pool.get_shape().as_list()\n",
    "        reshape = tf.reshape(layer_2_pool, [shape[0], shape[1] * shape[2] * shape[3]])\n",
    "        hidden = tf.nn.relu(tf.matmul(reshape, layer3_weights) + layer3_biases)\n",
    "        \n",
    "        return tf.matmul(hidden, layer4_weights) + layer4_biases\n",
    "  \n",
    "    # Training computation.\n",
    "    logits = model(tf_train_dataset)\n",
    "    loss = tf.reduce_mean(\n",
    "    tf.nn.softmax_cross_entropy_with_logits(logits, tf_train_labels))\n",
    "\n",
    "    # Optimizer.\n",
    "    optimizer = tf.train.GradientDescentOptimizer(0.05).minimize(loss)\n",
    "\n",
    "    # Predictions for the training, validation, and test data.\n",
    "    train_prediction = tf.nn.softmax(logits)\n",
    "    valid_prediction = tf.nn.softmax(model(tf_valid_dataset))\n",
    "    test_prediction = tf.nn.softmax(model(tf_test_dataset))"
   ]
  },
  {
   "cell_type": "code",
   "execution_count": 43,
   "metadata": {
    "code_folding": [
     3
    ],
    "collapsed": false
   },
   "outputs": [
    {
     "name": "stdout",
     "output_type": "stream",
     "text": [
      "Initialized\n",
      "Minibatch loss at step 0: 4.830544\n",
      "Minibatch loss at step 50: 2.129334\n",
      "Minibatch loss at step 100: 1.120768\n",
      "Minibatch loss at step 150: 0.557522\n",
      "Minibatch loss at step 200: 0.902621\n",
      "Minibatch loss at step 250: 1.232588\n",
      "Minibatch loss at step 300: 0.325561\n",
      "Minibatch loss at step 350: 0.539432\n",
      "Minibatch loss at step 400: 0.253347\n",
      "Minibatch loss at step 450: 1.041657\n",
      "Minibatch loss at step 500: 0.693065\n",
      "Minibatch loss at step 550: 0.741084\n",
      "Minibatch loss at step 600: 0.281147\n",
      "Minibatch loss at step 650: 0.902224\n",
      "Minibatch loss at step 700: 0.951131\n",
      "Minibatch loss at step 750: 0.045431\n",
      "Minibatch loss at step 800: 0.685543\n",
      "Minibatch loss at step 850: 0.958092\n",
      "Minibatch loss at step 900: 0.651034\n",
      "Minibatch loss at step 950: 0.610479\n",
      "Minibatch loss at step 1000: 0.349168\n",
      "Test accuracy: 90.2%\n"
     ]
    },
    {
     "data": {
      "text/plain": [
       "<matplotlib.axes._subplots.AxesSubplot at 0x121a98160>"
      ]
     },
     "execution_count": 43,
     "metadata": {},
     "output_type": "execute_result"
    },
    {
     "data": {
      "image/png": "[encoded data removed]",
      "text/plain": [
       "<matplotlib.figure.Figure at 0x123373630>"
      ]
     },
     "metadata": {},
     "output_type": "display_data"
    }
   ],
   "source": [
    "num_steps = 1001\n",
    "\n",
    "results = []\n",
    "with tf.Session(graph=graph) as session:\n",
    "    tf.initialize_all_variables().run()\n",
    "    \n",
    "    print('Initialized')\n",
    "    \n",
    "    for step in range(num_steps):\n",
    "        offset = (step * batch_size) % (train_labels.shape[0] - batch_size)\n",
    "        batch_data = train_dataset[offset:(offset + batch_size), :, :, :]\n",
    "        batch_labels = train_labels[offset:(offset + batch_size), :]\n",
    "        \n",
    "        _, l, predictions = session.run(\n",
    "            [optimizer, loss, train_prediction],\n",
    "            feed_dict={\n",
    "                tf_train_dataset : batch_data,\n",
    "                tf_train_labels : batch_labels\n",
    "            }\n",
    "        )\n",
    "        \n",
    "        if (step % 50 == 0):\n",
    "            print('Minibatch loss at step %d: %f' % (step, l))\n",
    "#             print('Minibatch accuracy: %.1f%%' % accuracy(predictions, batch_labels))\n",
    "#             print('Validation accuracy: %.1f%%' % accuracy(valid_prediction.eval(), valid_labels))\n",
    "            \n",
    "            results.append({\n",
    "                'minibatch': accuracy(predictions, batch_labels),\n",
    "                'validation': accuracy(valid_prediction.eval(), valid_labels),\n",
    "                'test': accuracy(test_prediction.eval(), test_labels)\n",
    "            })\n",
    "    print('Test accuracy: %.1f%%' % accuracy(test_prediction.eval(), test_labels))\n",
    "    \n",
    "results = pd.DataFrame(results)\n",
    "results.plot()"
   ]
  },
  {
   "cell_type": "markdown",
   "metadata": {
    "colab_type": "text",
    "id": "klf21gpbAgb-"
   },
   "source": [
    "---\n",
    "Problem 2\n",
    "---------\n",
    "\n",
    "Try to get the best performance you can using a convolutional net. Look for example at the classic [LeNet5](http://yann.lecun.com/exdb/lenet/) architecture, adding Dropout, and/or adding learning rate decay.\n",
    "\n",
    "---"
   ]
  },
  {
   "cell_type": "markdown",
   "metadata": {},
   "source": [
    "## Try changing to `avg_pool`"
   ]
  },
  {
   "cell_type": "code",
   "execution_count": 47,
   "metadata": {
    "code_folding": [],
    "collapsed": false
   },
   "outputs": [],
   "source": [
    "batch_size = 16\n",
    "patch_size = 5\n",
    "depth = 16\n",
    "num_hidden = 64\n",
    "\n",
    "graph = tf.Graph()\n",
    "\n",
    "with graph.as_default():\n",
    "\n",
    "    # Input data.\n",
    "    tf_train_dataset = tf.placeholder(\n",
    "    tf.float32, shape=(batch_size, image_size, image_size, num_channels))\n",
    "    tf_train_labels = tf.placeholder(tf.float32, shape=(batch_size, num_labels))\n",
    "    tf_valid_dataset = tf.constant(valid_dataset)\n",
    "    tf_test_dataset = tf.constant(test_dataset)\n",
    "\n",
    "    # Input data. 16 X 28 X 28 X 64\n",
    "    tf_train_dataset = tf.placeholder(\n",
    "        tf.float32, shape=(batch_size, image_size, image_size, num_channels)\n",
    "    )\n",
    "    tf_train_labels = tf.placeholder(tf.float32, shape=(batch_size, num_labels))\n",
    "    tf_valid_dataset = tf.constant(valid_dataset)\n",
    "    tf_test_dataset = tf.constant(test_dataset)\n",
    "  \n",
    "    # layer 1: 5 X 5 X 1 X 16\n",
    "    layer1_weights = tf.Variable(\n",
    "        tf.truncated_normal([patch_size, patch_size, num_channels, depth], stddev=0.1)\n",
    "    )\n",
    "    layer1_biases = tf.Variable(tf.zeros([depth]))\n",
    "    \n",
    "    # layer 2: 5 X 5 X 16 X 16\n",
    "    layer2_weights = tf.Variable(\n",
    "        tf.truncated_normal([patch_size, patch_size, depth, depth], stddev=0.1)\n",
    "    )\n",
    "    layer2_biases = tf.Variable(tf.constant(1.0, shape=[depth]))\n",
    "    \n",
    "    # layer 3: 784 X 64\n",
    "    layer3_weights = tf.Variable(\n",
    "        tf.truncated_normal(\n",
    "            [\n",
    "                image_size // 4 * image_size // 4 * depth,\n",
    "                num_hidden\n",
    "            ],\n",
    "            stddev=0.1\n",
    "        )\n",
    "    )\n",
    "    layer3_biases = tf.Variable(tf.constant(1.0, shape=[num_hidden]))\n",
    "    \n",
    "    # layer 4: 64 X 10\n",
    "    layer4_weights = tf.Variable(\n",
    "        tf.truncated_normal([num_hidden, num_labels], stddev=0.1)\n",
    "    )\n",
    "    layer4_biases = tf.Variable(tf.constant(1.0, shape=[num_labels]))\n",
    "    \n",
    "    # Model.\n",
    "    def model(data):\n",
    "        layer_1_conv = tf.nn.conv2d(data, layer1_weights, [1, 1, 1, 1], padding='SAME')\n",
    "        layer_1_bias = tf.nn.relu(layer_1_conv + layer1_biases)\n",
    "        layer_1_pool = tf.nn.avg_pool(layer_1_bias, [1, 2, 2, 1], [1, 2, 2, 1], padding='SAME')\n",
    "        \n",
    "        layer_2_conv = tf.nn.conv2d(layer_1_pool, layer2_weights, [1, 1, 1, 1], padding='SAME')\n",
    "        layer_2_bias = tf.nn.relu(layer_2_conv + layer2_biases)\n",
    "        layer_2_pool = tf.nn.avg_pool(layer_2_bias, [1, 2, 2, 1], [1, 2, 2, 1], padding='SAME')\n",
    "        \n",
    "        shape = layer_2_pool.get_shape().as_list()\n",
    "        reshape = tf.reshape(layer_2_pool, [shape[0], shape[1] * shape[2] * shape[3]])\n",
    "        hidden = tf.nn.relu(tf.matmul(reshape, layer3_weights) + layer3_biases)\n",
    "        \n",
    "        return tf.matmul(hidden, layer4_weights) + layer4_biases\n",
    "  \n",
    "    # Training computation.\n",
    "    logits = model(tf_train_dataset)\n",
    "    loss = tf.reduce_mean(\n",
    "    tf.nn.softmax_cross_entropy_with_logits(logits, tf_train_labels))\n",
    "\n",
    "    # Optimizer.\n",
    "    optimizer = tf.train.GradientDescentOptimizer(0.05).minimize(loss)\n",
    "\n",
    "    # Predictions for the training, validation, and test data.\n",
    "    train_prediction = tf.nn.softmax(logits)\n",
    "    valid_prediction = tf.nn.softmax(model(tf_valid_dataset))\n",
    "    test_prediction = tf.nn.softmax(model(tf_test_dataset))"
   ]
  },
  {
   "cell_type": "code",
   "execution_count": 48,
   "metadata": {
    "code_folding": [
     3
    ],
    "collapsed": false
   },
   "outputs": [
    {
     "name": "stdout",
     "output_type": "stream",
     "text": [
      "Initialized\n",
      "Minibatch loss at step 0: 2.900235\n",
      "Minibatch loss at step 50: 1.662583\n",
      "Minibatch loss at step 100: 1.079526\n",
      "Minibatch loss at step 150: 0.509082\n",
      "Minibatch loss at step 200: 0.855127\n",
      "Minibatch loss at step 250: 1.061987\n",
      "Minibatch loss at step 300: 0.383843\n",
      "Minibatch loss at step 350: 0.548572\n",
      "Minibatch loss at step 400: 0.376164\n",
      "Minibatch loss at step 450: 0.745698\n",
      "Minibatch loss at step 500: 0.699731\n",
      "Minibatch loss at step 550: 0.907314\n",
      "Minibatch loss at step 600: 0.290613\n",
      "Minibatch loss at step 650: 0.810107\n",
      "Minibatch loss at step 700: 0.715039\n",
      "Minibatch loss at step 750: 0.060254\n",
      "Minibatch loss at step 800: 0.513015\n",
      "Minibatch loss at step 850: 0.831888\n",
      "Minibatch loss at step 900: 0.576021\n",
      "Minibatch loss at step 950: 0.714735\n",
      "Minibatch loss at step 1000: 0.391943\n",
      "Test accuracy: 89.0%\n"
     ]
    },
    {
     "data": {
      "text/plain": [
       "<matplotlib.axes._subplots.AxesSubplot at 0x1219350b8>"
      ]
     },
     "execution_count": 48,
     "metadata": {},
     "output_type": "execute_result"
    },
    {
     "data": {
      "image/png": "[encoded data removed]",
      "text/plain": [
       "<matplotlib.figure.Figure at 0x121946828>"
      ]
     },
     "metadata": {},
     "output_type": "display_data"
    }
   ],
   "source": [
    "num_steps = 1001\n",
    "\n",
    "results = []\n",
    "with tf.Session(graph=graph) as session:\n",
    "    tf.initialize_all_variables().run()\n",
    "    \n",
    "    print('Initialized')\n",
    "    \n",
    "    for step in range(num_steps):\n",
    "        offset = (step * batch_size) % (train_labels.shape[0] - batch_size)\n",
    "        batch_data = train_dataset[offset:(offset + batch_size), :, :, :]\n",
    "        batch_labels = train_labels[offset:(offset + batch_size), :]\n",
    "        \n",
    "        _, l, predictions = session.run(\n",
    "            [optimizer, loss, train_prediction],\n",
    "            feed_dict={\n",
    "                tf_train_dataset : batch_data,\n",
    "                tf_train_labels : batch_labels\n",
    "            }\n",
    "        )\n",
    "        \n",
    "        if (step % 50 == 0):\n",
    "            print('Minibatch loss at step %d: %f' % (step, l))\n",
    "            \n",
    "            results.append({\n",
    "                'minibatch': accuracy(predictions, batch_labels),\n",
    "                'validation': accuracy(valid_prediction.eval(), valid_labels),\n",
    "                'test': accuracy(test_prediction.eval(), test_labels)\n",
    "            })\n",
    "    print('Test accuracy: %.1f%%' % accuracy(test_prediction.eval(), test_labels))\n",
    "    \n",
    "results = pd.DataFrame(results)\n",
    "results.plot()"
   ]
  },
  {
   "cell_type": "markdown",
   "metadata": {},
   "source": [
    "## Try different layers"
   ]
  },
  {
   "cell_type": "code",
   "execution_count": 63,
   "metadata": {
    "collapsed": true
   },
   "outputs": [],
   "source": [
    "batch_size = 16\n",
    "patch_size = 5\n",
    "depth = 16\n",
    "num_hidden = 64\n",
    "\n",
    "graph = tf.Graph()\n",
    "\n",
    "with graph.as_default():\n",
    "\n",
    "    # Input data.\n",
    "    tf_train_dataset = tf.placeholder(\n",
    "    tf.float32, shape=(batch_size, image_size, image_size, num_channels))\n",
    "    tf_train_labels = tf.placeholder(tf.float32, shape=(batch_size, num_labels))\n",
    "    tf_valid_dataset = tf.constant(valid_dataset)\n",
    "    tf_test_dataset = tf.constant(test_dataset)\n",
    "  \n",
    "    # Variables.\n",
    "    layer1_weights = tf.Variable(tf.truncated_normal(\n",
    "      [patch_size, patch_size, num_channels, depth], stddev=0.1))\n",
    "    layer1_biases = tf.Variable(tf.zeros([depth]))\n",
    "    layer2_weights = tf.Variable(tf.truncated_normal(\n",
    "      [patch_size, patch_size, depth, depth], stddev=0.1))\n",
    "    layer2_biases = tf.Variable(tf.constant(1.0, shape=[depth]))\n",
    "    size3 = ((image_size - patch_size + 1) // 2 - patch_size + 1) // 2\n",
    "    layer3_weights = tf.Variable(tf.truncated_normal(\n",
    "      [size3 * size3 * depth, num_hidden], stddev=0.1))\n",
    "    layer3_biases = tf.Variable(tf.constant(1.0, shape=[num_hidden]))\n",
    "    layer4_weights = tf.Variable(tf.truncated_normal(\n",
    "      [num_hidden, num_labels], stddev=0.1))\n",
    "    layer4_biases = tf.Variable(tf.constant(1.0, shape=[num_labels]))\n",
    "  \n",
    "    # Model.\n",
    "    def model(data):\n",
    "        # Layer 1 (Conv): input 28 x 28\n",
    "        layer_1_conv = tf.nn.conv2d(data, layer1_weights, [1, 1, 1, 1], padding='VALID')\n",
    "        layer_1_bias = tf.nn.relu(layer_1_conv + layer1_biases)\n",
    "        \n",
    "        # Layer 2 (Stride): input 24 x 24\n",
    "        layer_2_pool = tf.nn.avg_pool(layer_1_bias, [1, 2, 2, 1], [1, 2, 2, 1], padding='VALID')\n",
    "        \n",
    "        # Layer 3 (Conv): input 12 x 12\n",
    "        layer_3_conv = tf.nn.conv2d(layer_2_pool, layer2_weights, [1, 1, 1, 1], padding='VALID')\n",
    "        layer_3_bias = tf.nn.relu(layer_3_conv + layer2_biases)\n",
    "        \n",
    "        # Layer 4 (Stride): input 8 x 8\n",
    "        layer_4_pool = tf.nn.max_pool(layer_3_bias, [1, 2, 2, 1], [1, 2, 2, 1], padding='VALID')\n",
    "        \n",
    "        # Layer 4 (Final): input 4 x 4\n",
    "        shape = layer_4_pool.get_shape().as_list()\n",
    "        reshape = tf.reshape(layer_4_pool, [shape[0], shape[1] * shape[2] * shape[3]])\n",
    "        hidden = tf.nn.relu(tf.matmul(reshape, layer3_weights) + layer3_biases)\n",
    "        \n",
    "        return tf.matmul(hidden, layer4_weights) + layer4_biases\n",
    "    # Training computation.\n",
    "    logits = model(tf_train_dataset)\n",
    "    loss = tf.reduce_mean(\n",
    "    tf.nn.softmax_cross_entropy_with_logits(logits, tf_train_labels))\n",
    "\n",
    "    # Optimizer.\n",
    "    optimizer = tf.train.GradientDescentOptimizer(0.05).minimize(loss)\n",
    "\n",
    "    # Predictions for the training, validation, and test data.\n",
    "    train_prediction = tf.nn.softmax(logits)\n",
    "    valid_prediction = tf.nn.softmax(model(tf_valid_dataset))\n",
    "    test_prediction = tf.nn.softmax(model(tf_test_dataset))"
   ]
  },
  {
   "cell_type": "code",
   "execution_count": 65,
   "metadata": {
    "collapsed": false,
    "scrolled": false
   },
   "outputs": [
    {
     "name": "stdout",
     "output_type": "stream",
     "text": [
      "Initialized\n",
      "Minibatch loss at step 0: 3.366702\n",
      "Minibatch loss at step 50: 1.999454\n",
      "Minibatch loss at step 100: 1.231575\n",
      "Minibatch loss at step 150: 0.868423\n",
      "Minibatch loss at step 200: 1.164805\n",
      "Minibatch loss at step 250: 1.185170\n",
      "Minibatch loss at step 300: 0.688734\n",
      "Minibatch loss at step 350: 0.682034\n",
      "Minibatch loss at step 400: 0.327332\n",
      "Minibatch loss at step 450: 0.937644\n",
      "Minibatch loss at step 500: 1.003644\n",
      "Minibatch loss at step 550: 0.772862\n",
      "Minibatch loss at step 600: 0.459518\n",
      "Minibatch loss at step 650: 0.944724\n",
      "Minibatch loss at step 700: 0.913471\n",
      "Minibatch loss at step 750: 0.038550\n",
      "Minibatch loss at step 800: 0.430458\n",
      "Minibatch loss at step 850: 0.780987\n",
      "Minibatch loss at step 900: 0.691217\n",
      "Minibatch loss at step 950: 0.617455\n",
      "Minibatch loss at step 1000: 0.422513\n",
      "Minibatch loss at step 1050: 0.481182\n",
      "Minibatch loss at step 1100: 0.642880\n",
      "Minibatch loss at step 1150: 0.445649\n",
      "Minibatch loss at step 1200: 1.032377\n",
      "Minibatch loss at step 1250: 0.537142\n",
      "Minibatch loss at step 1300: 0.262832\n",
      "Minibatch loss at step 1350: 0.863309\n",
      "Minibatch loss at step 1400: 0.235417\n",
      "Minibatch loss at step 1450: 0.310555\n",
      "Minibatch loss at step 1500: 0.751169\n",
      "Minibatch loss at step 1550: 0.497628\n",
      "Minibatch loss at step 1600: 1.023418\n",
      "Minibatch loss at step 1650: 0.762065\n",
      "Minibatch loss at step 1700: 0.799797\n",
      "Minibatch loss at step 1750: 0.339929\n",
      "Minibatch loss at step 1800: 0.326088\n",
      "Minibatch loss at step 1850: 0.710531\n",
      "Minibatch loss at step 1900: 0.360235\n",
      "Minibatch loss at step 1950: 0.587294\n",
      "Minibatch loss at step 2000: 0.137050\n",
      "Minibatch loss at step 2050: 0.616603\n",
      "Minibatch loss at step 2100: 0.138641\n",
      "Minibatch loss at step 2150: 0.471350\n",
      "Minibatch loss at step 2200: 0.429960\n",
      "Minibatch loss at step 2250: 0.559653\n",
      "Minibatch loss at step 2300: 0.566302\n",
      "Minibatch loss at step 2350: 0.295554\n",
      "Minibatch loss at step 2400: 0.401837\n",
      "Minibatch loss at step 2450: 0.413088\n",
      "Minibatch loss at step 2500: 0.655343\n",
      "Minibatch loss at step 2550: 0.546263\n",
      "Minibatch loss at step 2600: 0.191710\n",
      "Minibatch loss at step 2650: 0.321225\n",
      "Minibatch loss at step 2700: 0.431492\n",
      "Minibatch loss at step 2750: 1.179812\n",
      "Minibatch loss at step 2800: 0.522216\n",
      "Minibatch loss at step 2850: 0.121727\n",
      "Minibatch loss at step 2900: 0.310978\n",
      "Minibatch loss at step 2950: 0.449693\n",
      "Minibatch loss at step 3000: 0.698605\n",
      "Minibatch loss at step 3050: 0.366562\n",
      "Minibatch loss at step 3100: 0.332928\n",
      "Minibatch loss at step 3150: 0.629832\n",
      "Minibatch loss at step 3200: 0.642302\n",
      "Minibatch loss at step 3250: 0.509356\n",
      "Minibatch loss at step 3300: 0.128693\n",
      "Minibatch loss at step 3350: 0.295159\n",
      "Minibatch loss at step 3400: 0.713165\n",
      "Minibatch loss at step 3450: 0.443179\n",
      "Minibatch loss at step 3500: 0.365534\n",
      "Minibatch loss at step 3550: 0.133420\n",
      "Minibatch loss at step 3600: 0.092079\n",
      "Minibatch loss at step 3650: 0.853150\n",
      "Minibatch loss at step 3700: 1.008503\n",
      "Minibatch loss at step 3750: 0.757128\n",
      "Minibatch loss at step 3800: 0.004255\n",
      "Minibatch loss at step 3850: 0.640868\n",
      "Minibatch loss at step 3900: 0.449571\n",
      "Minibatch loss at step 3950: 0.016923\n",
      "Minibatch loss at step 4000: 0.381112\n",
      "Minibatch loss at step 4050: 0.672901\n",
      "Minibatch loss at step 4100: 0.293349\n",
      "Minibatch loss at step 4150: 1.027119\n",
      "Minibatch loss at step 4200: 0.259262\n",
      "Minibatch loss at step 4250: 0.599340\n",
      "Minibatch loss at step 4300: 0.692027\n",
      "Minibatch loss at step 4350: 0.290829\n",
      "Minibatch loss at step 4400: 1.259491\n",
      "Minibatch loss at step 4450: 0.484623\n",
      "Minibatch loss at step 4500: 0.619359\n",
      "Minibatch loss at step 4550: 0.257760\n",
      "Minibatch loss at step 4600: 0.697349\n",
      "Minibatch loss at step 4650: 1.290954\n",
      "Minibatch loss at step 4700: 0.456313\n",
      "Minibatch loss at step 4750: 0.851552\n",
      "Minibatch loss at step 4800: 0.443558\n",
      "Minibatch loss at step 4850: 0.402370\n",
      "Minibatch loss at step 4900: 0.234026\n",
      "Minibatch loss at step 4950: 0.175451\n",
      "Minibatch loss at step 5000: 1.299259\n",
      "Minibatch loss at step 5050: 0.253083\n",
      "Minibatch loss at step 5100: 0.223266\n",
      "Minibatch loss at step 5150: 0.415670\n",
      "Minibatch loss at step 5200: 0.184727\n",
      "Minibatch loss at step 5250: 0.085951\n",
      "Minibatch loss at step 5300: 0.258240\n",
      "Minibatch loss at step 5350: 0.441581\n",
      "Minibatch loss at step 5400: 0.364512\n",
      "Minibatch loss at step 5450: 0.259973\n",
      "Minibatch loss at step 5500: 0.578265\n",
      "Minibatch loss at step 5550: 0.451704\n",
      "Minibatch loss at step 5600: 0.269066\n",
      "Minibatch loss at step 5650: 0.426177\n",
      "Minibatch loss at step 5700: 0.423317\n",
      "Minibatch loss at step 5750: 0.568561\n",
      "Minibatch loss at step 5800: 0.147488\n",
      "Minibatch loss at step 5850: 0.835812\n",
      "Minibatch loss at step 5900: 0.713971\n",
      "Minibatch loss at step 5950: 0.339974\n",
      "Minibatch loss at step 6000: 0.180850\n",
      "Minibatch loss at step 6050: 0.304578\n",
      "Minibatch loss at step 6100: 0.893137\n",
      "Minibatch loss at step 6150: 0.273131\n",
      "Minibatch loss at step 6200: 1.325572\n",
      "Minibatch loss at step 6250: 0.845079\n",
      "Minibatch loss at step 6300: 0.716945\n",
      "Minibatch loss at step 6350: 0.187169\n",
      "Minibatch loss at step 6400: 0.114549\n",
      "Minibatch loss at step 6450: 0.321052\n",
      "Minibatch loss at step 6500: 0.840866\n",
      "Minibatch loss at step 6550: 0.072667\n",
      "Minibatch loss at step 6600: 0.312467\n",
      "Minibatch loss at step 6650: 1.730069\n",
      "Minibatch loss at step 6700: 0.259474\n",
      "Minibatch loss at step 6750: 0.404064\n",
      "Minibatch loss at step 6800: 0.526101\n",
      "Minibatch loss at step 6850: 0.451015\n",
      "Minibatch loss at step 6900: 0.542787\n",
      "Minibatch loss at step 6950: 0.256127\n",
      "Minibatch loss at step 7000: 1.036533\n",
      "Minibatch loss at step 7050: 0.724744\n",
      "Minibatch loss at step 7100: 0.555581\n",
      "Minibatch loss at step 7150: 0.337535\n",
      "Minibatch loss at step 7200: 0.647929\n",
      "Minibatch loss at step 7250: 0.326137\n",
      "Minibatch loss at step 7300: 0.703236\n",
      "Minibatch loss at step 7350: 0.168489\n",
      "Minibatch loss at step 7400: 0.014660\n",
      "Minibatch loss at step 7450: 0.242439\n",
      "Minibatch loss at step 7500: 0.211478\n",
      "Minibatch loss at step 7550: 0.460378\n",
      "Minibatch loss at step 7600: 0.506870\n",
      "Minibatch loss at step 7650: 0.175166\n",
      "Minibatch loss at step 7700: 0.183973\n",
      "Minibatch loss at step 7750: 0.377672\n",
      "Minibatch loss at step 7800: 0.266824\n",
      "Minibatch loss at step 7850: 0.333348\n",
      "Minibatch loss at step 7900: 0.139578\n",
      "Minibatch loss at step 7950: 1.004252\n",
      "Minibatch loss at step 8000: 0.426038\n",
      "Minibatch loss at step 8050: 0.214262\n",
      "Minibatch loss at step 8100: 0.397620\n",
      "Minibatch loss at step 8150: 0.744087\n",
      "Minibatch loss at step 8200: 0.255991\n",
      "Minibatch loss at step 8250: 0.311638\n",
      "Minibatch loss at step 8300: 0.262074\n",
      "Minibatch loss at step 8350: 0.528476\n",
      "Minibatch loss at step 8400: 0.301560\n",
      "Minibatch loss at step 8450: 0.183995\n",
      "Minibatch loss at step 8500: 0.252692\n",
      "Minibatch loss at step 8550: 0.465727\n",
      "Minibatch loss at step 8600: 0.373289\n",
      "Minibatch loss at step 8650: 0.654224\n",
      "Minibatch loss at step 8700: 0.287737\n",
      "Minibatch loss at step 8750: 0.101271\n",
      "Minibatch loss at step 8800: 0.220004\n",
      "Minibatch loss at step 8850: 0.042200\n",
      "Minibatch loss at step 8900: 0.365585\n",
      "Minibatch loss at step 8950: 0.209440\n",
      "Minibatch loss at step 9000: 0.225914\n",
      "Minibatch loss at step 9050: 0.229399\n",
      "Minibatch loss at step 9100: 0.304360\n",
      "Minibatch loss at step 9150: 0.955164\n",
      "Minibatch loss at step 9200: 0.203946\n",
      "Minibatch loss at step 9250: 0.772421\n",
      "Minibatch loss at step 9300: 0.790862\n",
      "Minibatch loss at step 9350: 0.354114\n",
      "Minibatch loss at step 9400: 0.361799\n",
      "Minibatch loss at step 9450: 0.463144\n",
      "Minibatch loss at step 9500: 0.227346\n",
      "Minibatch loss at step 9550: 0.285096\n",
      "Minibatch loss at step 9600: 0.305323\n",
      "Minibatch loss at step 9650: 0.271783\n",
      "Minibatch loss at step 9700: 0.262658\n",
      "Minibatch loss at step 9750: 0.144840\n",
      "Minibatch loss at step 9800: 0.482338\n",
      "Minibatch loss at step 9850: 0.238833\n",
      "Minibatch loss at step 9900: 0.572230\n",
      "Minibatch loss at step 9950: 0.276512\n",
      "Minibatch loss at step 10000: 0.157254\n",
      "Test accuracy: 94.0%\n"
     ]
    },
    {
     "data": {
      "text/plain": [
       "<matplotlib.axes._subplots.AxesSubplot at 0x11efc6358>"
      ]
     },
     "execution_count": 65,
     "metadata": {},
     "output_type": "execute_result"
    },
    {
     "data": {
      "image/png": "[encoded data removed]",
      "text/plain": [
       "<matplotlib.figure.Figure at 0x121a8ce10>"
      ]
     },
     "metadata": {},
     "output_type": "display_data"
    }
   ],
   "source": [
    "num_steps = 10001\n",
    "\n",
    "results = []\n",
    "with tf.Session(graph=graph) as session:\n",
    "    tf.initialize_all_variables().run()\n",
    "    \n",
    "    print('Initialized')\n",
    "    \n",
    "    for step in range(num_steps):\n",
    "        offset = (step * batch_size) % (train_labels.shape[0] - batch_size)\n",
    "        batch_data = train_dataset[offset:(offset + batch_size), :, :, :]\n",
    "        batch_labels = train_labels[offset:(offset + batch_size), :]\n",
    "        \n",
    "        _, l, predictions = session.run(\n",
    "            [optimizer, loss, train_prediction],\n",
    "            feed_dict={\n",
    "                tf_train_dataset : batch_data,\n",
    "                tf_train_labels : batch_labels\n",
    "            }\n",
    "        )\n",
    "        \n",
    "        if (step % 50 == 0):\n",
    "            print('Minibatch loss at step %d: %f' % (step, l))\n",
    "            \n",
    "            results.append({\n",
    "                'minibatch': accuracy(predictions, batch_labels),\n",
    "                'validation': accuracy(valid_prediction.eval(), valid_labels),\n",
    "                'test': accuracy(test_prediction.eval(), test_labels)\n",
    "            })\n",
    "    print('Test accuracy: %.1f%%' % accuracy(test_prediction.eval(), test_labels))\n",
    "    \n",
    "results = pd.DataFrame(results)\n",
    "results.plot()"
   ]
  },
  {
   "cell_type": "code",
   "execution_count": null,
   "metadata": {
    "collapsed": true
   },
   "outputs": [],
   "source": []
  }
 ],
 "metadata": {
  "colab": {
   "default_view": {},
   "name": "4_convolutions.ipynb",
   "provenance": [],
   "version": "0.3.2",
   "views": {}
  },
  "kernelspec": {
   "display_name": "Python 3",
   "language": "python",
   "name": "python3"
  },
  "language_info": {
   "codemirror_mode": {
    "name": "ipython",
    "version": 3
   },
   "file_extension": ".py",
   "mimetype": "text/x-python",
   "name": "python",
   "nbconvert_exporter": "python",
   "pygments_lexer": "ipython3",
   "version": "3.5.1"
  }
 },
 "nbformat": 4,
 "nbformat_minor": 0
}
