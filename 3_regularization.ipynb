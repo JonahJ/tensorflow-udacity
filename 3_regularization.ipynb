{
 "cells": [
  {
   "cell_type": "markdown",
   "metadata": {
    "colab_type": "text",
    "id": "kR-4eNdK6lYS"
   },
   "source": [
    "Deep Learning\n",
    "=============\n",
    "\n",
    "Assignment 3\n",
    "------------\n",
    "\n",
    "Previously in `2_fullyconnected.ipynb`, you trained a logistic regression and a neural network model.\n",
    "\n",
    "The goal of this assignment is to explore regularization techniques."
   ]
  },
  {
   "cell_type": "code",
   "execution_count": 1,
   "metadata": {
    "cellView": "both",
    "colab": {
     "autoexec": {
      "startup": false,
      "wait_interval": 0
     }
    },
    "colab_type": "code",
    "collapsed": true,
    "id": "JLpLa8Jt7Vu4"
   },
   "outputs": [],
   "source": [
    "# These are all the modules we'll be using later. Make sure you can import them\n",
    "# before proceeding further.\n",
    "from __future__ import print_function\n",
    "import numpy as np\n",
    "import tensorflow as tf\n",
    "from six.moves import cPickle as pickle"
   ]
  },
  {
   "cell_type": "markdown",
   "metadata": {
    "colab_type": "text",
    "id": "1HrCK6e17WzV"
   },
   "source": [
    "First reload the data we generated in _notmist.ipynb_."
   ]
  },
  {
   "cell_type": "code",
   "execution_count": 2,
   "metadata": {
    "cellView": "both",
    "colab": {
     "autoexec": {
      "startup": false,
      "wait_interval": 0
     },
     "output_extras": [
      {
       "item_id": 1
      }
     ]
    },
    "colab_type": "code",
    "collapsed": false,
    "executionInfo": {
     "elapsed": 11777,
     "status": "ok",
     "timestamp": 1449849322348,
     "user": {
      "color": "",
      "displayName": "",
      "isAnonymous": false,
      "isMe": true,
      "permissionId": "",
      "photoUrl": "",
      "sessionId": "0",
      "userId": ""
     },
     "user_tz": 480
    },
    "id": "y3-cj1bpmuxc",
    "outputId": "e03576f1-ebbe-4838-c388-f1777bcc9873"
   },
   "outputs": [
    {
     "name": "stdout",
     "output_type": "stream",
     "text": [
      "Training set (200000, 28, 28) (200000,)\n",
      "Validation set (10000, 28, 28) (10000,)\n",
      "Test set (10000, 28, 28) (10000,)\n"
     ]
    }
   ],
   "source": [
    "pickle_file = 'notMNIST.pickle'\n",
    "\n",
    "with open(pickle_file, 'rb') as f:\n",
    "  save = pickle.load(f)\n",
    "  train_dataset = save['train_dataset']\n",
    "  train_labels = save['train_labels']\n",
    "  valid_dataset = save['valid_dataset']\n",
    "  valid_labels = save['valid_labels']\n",
    "  test_dataset = save['test_dataset']\n",
    "  test_labels = save['test_labels']\n",
    "  del save  # hint to help gc free up memory\n",
    "  print('Training set', train_dataset.shape, train_labels.shape)\n",
    "  print('Validation set', valid_dataset.shape, valid_labels.shape)\n",
    "  print('Test set', test_dataset.shape, test_labels.shape)"
   ]
  },
  {
   "cell_type": "markdown",
   "metadata": {
    "colab_type": "text",
    "id": "L7aHrm6nGDMB"
   },
   "source": [
    "Reformat into a shape that's more adapted to the models we're going to train:\n",
    "- data as a flat matrix,\n",
    "- labels as float 1-hot encodings."
   ]
  },
  {
   "cell_type": "code",
   "execution_count": 3,
   "metadata": {
    "cellView": "both",
    "colab": {
     "autoexec": {
      "startup": false,
      "wait_interval": 0
     },
     "output_extras": [
      {
       "item_id": 1
      }
     ]
    },
    "colab_type": "code",
    "collapsed": false,
    "executionInfo": {
     "elapsed": 11728,
     "status": "ok",
     "timestamp": 1449849322356,
     "user": {
      "color": "",
      "displayName": "",
      "isAnonymous": false,
      "isMe": true,
      "permissionId": "",
      "photoUrl": "",
      "sessionId": "0",
      "userId": ""
     },
     "user_tz": 480
    },
    "id": "IRSyYiIIGIzS",
    "outputId": "3f8996ee-3574-4f44-c953-5c8a04636582"
   },
   "outputs": [
    {
     "name": "stdout",
     "output_type": "stream",
     "text": [
      "Training set (200000, 784) (200000, 10)\n",
      "Validation set (10000, 784) (10000, 10)\n",
      "Test set (10000, 784) (10000, 10)\n"
     ]
    }
   ],
   "source": [
    "image_size = 28\n",
    "num_labels = 10\n",
    "\n",
    "def reformat(dataset, labels):\n",
    "  dataset = dataset.reshape((-1, image_size * image_size)).astype(np.float32)\n",
    "  # Map 2 to [0.0, 1.0, 0.0 ...], 3 to [0.0, 0.0, 1.0 ...]\n",
    "  labels = (np.arange(num_labels) == labels[:,None]).astype(np.float32)\n",
    "  return dataset, labels\n",
    "train_dataset, train_labels = reformat(train_dataset, train_labels)\n",
    "valid_dataset, valid_labels = reformat(valid_dataset, valid_labels)\n",
    "test_dataset, test_labels = reformat(test_dataset, test_labels)\n",
    "print('Training set', train_dataset.shape, train_labels.shape)\n",
    "print('Validation set', valid_dataset.shape, valid_labels.shape)\n",
    "print('Test set', test_dataset.shape, test_labels.shape)"
   ]
  },
  {
   "cell_type": "code",
   "execution_count": 4,
   "metadata": {
    "cellView": "both",
    "colab": {
     "autoexec": {
      "startup": false,
      "wait_interval": 0
     }
    },
    "colab_type": "code",
    "collapsed": true,
    "id": "RajPLaL_ZW6w"
   },
   "outputs": [],
   "source": [
    "def accuracy(predictions, labels):\n",
    "  return (100.0 * np.sum(np.argmax(predictions, 1) == np.argmax(labels, 1))\n",
    "          / predictions.shape[0])"
   ]
  },
  {
   "cell_type": "markdown",
   "metadata": {
    "colab_type": "text",
    "id": "sgLbUAQ1CW-1"
   },
   "source": [
    "---\n",
    "Problem 1\n",
    "---------\n",
    "\n",
    "Introduce and tune L2 regularization for both logistic and neural network models. Remember that L2 amounts to adding a penalty on the norm of the weights to the loss. In TensorFlow, you can compute the L2 loss for a tensor `t` using `nn.l2_loss(t)`. The right amount of regularization should improve your validation / test accuracy.\n",
    "\n",
    "---"
   ]
  },
  {
   "cell_type": "code",
   "execution_count": 5,
   "metadata": {
    "collapsed": false
   },
   "outputs": [],
   "source": [
    "train_subset = 1000\n",
    "beta = 0.01\n",
    "\n",
    "graph = tf.Graph()\n",
    "\n",
    "with graph.as_default():\n",
    "    \n",
    "    tf_train_dataset = tf.constant(\n",
    "        train_dataset[:train_subset, :]\n",
    "    )\n",
    "    tf_train_labels = tf.constant(\n",
    "        train_labels[:train_subset]\n",
    "    )\n",
    "    tf_valid_dataset = tf.constant(valid_dataset)\n",
    "    tf_test_datast = tf.constant(test_dataset)\n",
    "    \n",
    "    ''' variables '''\n",
    "    weights = tf.Variable(\n",
    "        tf.truncated_normal([\n",
    "            image_size * image_size,\n",
    "            num_labels\n",
    "        ])\n",
    "    )\n",
    "    biases = tf.Variable(tf.zeros([num_labels]))\n",
    "    \n",
    "    ''' training computation function '''\n",
    "    \n",
    "    logits = tf.matmul(tf_train_dataset, weights) + biases\n",
    "    \n",
    "    ''' loss function using L2 Regularization '''\n",
    "    loss = tf.reduce_mean(\n",
    "        tf.nn.softmax_cross_entropy_with_logits(logits, tf_train_labels)\n",
    "    )\n",
    "    loss_l2 = tf.reduce_mean(\n",
    "        loss + beta * tf.nn.l2_loss(weights)\n",
    "    )\n",
    "    \n",
    "    ''' optimize '''\n",
    "    optimizer = tf.train.GradientDescentOptimizer(0.5).minimize(loss_l2)\n",
    "    \n",
    "    ''' predictions '''\n",
    "    train_prediction = tf.nn.softmax(logits)\n",
    "    valid_prediction = tf.nn.softmax(\n",
    "        tf.matmul(tf_valid_dataset, weights) + biases\n",
    "    )\n",
    "    test_prediction = tf.nn.softmax(\n",
    "        tf.matmul(tf_test_datast, weights) + biases\n",
    "    )"
   ]
  },
  {
   "cell_type": "code",
   "execution_count": 6,
   "metadata": {
    "code_folding": [
     3
    ],
    "collapsed": false,
    "scrolled": false
   },
   "outputs": [
    {
     "name": "stdout",
     "output_type": "stream",
     "text": [
      "Initialized\n",
      "Loss at step 0: 18.625324\n",
      "Training accuracy: 7.9%\n",
      "Validation accuracy: 9.4%\n",
      "\n",
      "Loss at step 100: 0.867004\n",
      "Training accuracy: 80.6%\n",
      "Validation accuracy: 68.4%\n",
      "\n",
      "Loss at step 200: 0.396087\n",
      "Training accuracy: 90.0%\n",
      "Validation accuracy: 72.5%\n",
      "\n",
      "Loss at step 300: 0.301526\n",
      "Training accuracy: 93.5%\n",
      "Validation accuracy: 75.3%\n",
      "\n",
      "Loss at step 400: 0.282466\n",
      "Training accuracy: 95.0%\n",
      "Validation accuracy: 77.1%\n",
      "\n",
      "Loss at step 500: 0.278939\n",
      "Training accuracy: 95.3%\n",
      "Validation accuracy: 77.9%\n",
      "\n",
      "Loss at step 600: 0.278273\n",
      "Training accuracy: 95.4%\n",
      "Validation accuracy: 78.3%\n",
      "\n",
      "Loss at step 700: 0.278039\n",
      "Training accuracy: 95.4%\n",
      "Validation accuracy: 78.5%\n",
      "\n",
      "Loss at step 800: 0.277868\n",
      "Training accuracy: 95.4%\n",
      "Validation accuracy: 78.5%\n",
      "\n",
      "Loss at step 900: 0.277726\n",
      "Training accuracy: 95.4%\n",
      "Validation accuracy: 78.6%\n",
      "\n",
      "Loss at step 1000: 0.277614\n",
      "Training accuracy: 95.4%\n",
      "Validation accuracy: 78.6%\n",
      "\n",
      "Test accuracy: 86.0%\n"
     ]
    },
    {
     "data": {
      "image/png": "[encoded data removed]",
      "text/plain": [
       "<matplotlib.figure.Figure at 0x112e8e320>"
      ]
     },
     "metadata": {},
     "output_type": "display_data"
    }
   ],
   "source": [
    "%matplotlib inline\n",
    "import pandas as pd\n",
    "\n",
    "def getTFResults(graph, num_iterations):\n",
    "\n",
    "    def accuracy(predictions, labels):\n",
    "        return (\n",
    "            100.0 * np.sum(\n",
    "                np.argmax(predictions, 1) == np.argmax(labels, 1)\n",
    "            ) / predictions.shape[0]\n",
    "        )\n",
    "\n",
    "    df_accuracy = []\n",
    "\n",
    "    with tf.Session(graph=graph) as session:\n",
    "        tf.initialize_all_variables().run()\n",
    "\n",
    "        print('Initialized')\n",
    "\n",
    "        for step in range(num_iterations):\n",
    "            _, l, predictions = session.run([optimizer, loss, train_prediction])\n",
    "\n",
    "            if (step % 100 == 0):\n",
    "                print('Loss at step %d: %f' % (step, l))\n",
    "                print(\n",
    "                    'Training accuracy: %.1f%%' % accuracy(\n",
    "                        predictions,\n",
    "                        train_labels[:train_subset, :]\n",
    "                    )\n",
    "                )\n",
    "                print(\n",
    "                    'Validation accuracy: %.1f%%' % accuracy(\n",
    "                        valid_prediction.eval(),\n",
    "                        valid_labels\n",
    "                    )\n",
    "                )\n",
    "                print('')\n",
    "\n",
    "                df_accuracy.append({\n",
    "                    'step': step,\n",
    "                    'train': accuracy(\n",
    "                        predictions,\n",
    "                        train_labels[:train_subset, :]\n",
    "                    ),\n",
    "                    'test': accuracy(\n",
    "                        valid_prediction.eval(),\n",
    "                        valid_labels\n",
    "                    ),\n",
    "                    'final': accuracy(\n",
    "                        valid_prediction.eval(),\n",
    "                        valid_labels\n",
    "                    )\n",
    "                })\n",
    "        print(\n",
    "            'Test accuracy: %.1f%%' % accuracy(\n",
    "                test_prediction.eval(),\n",
    "                test_labels\n",
    "            )\n",
    "        )\n",
    "\n",
    "        df_accuracy.append({\n",
    "            'step': step,\n",
    "            'final': accuracy(\n",
    "                valid_prediction.eval(),\n",
    "                valid_labels\n",
    "            )\n",
    "        })\n",
    "    df_accuracy = pd.DataFrame(df_accuracy)\n",
    "\n",
    "    df_accuracy[['final', 'test', 'train']].plot()\n",
    "\n",
    "getTFResults(graph, 1001)"
   ]
  },
  {
   "cell_type": "markdown",
   "metadata": {
    "colab_type": "text",
    "id": "na8xX2yHZzNF"
   },
   "source": [
    "---\n",
    "Problem 2\n",
    "---------\n",
    "Let's demonstrate an extreme case of overfitting. Restrict your training data to just a few batches. What happens?\n",
    "\n",
    "---"
   ]
  },
  {
   "cell_type": "code",
   "execution_count": 7,
   "metadata": {
    "code_folding": [],
    "collapsed": false,
    "scrolled": false
   },
   "outputs": [
    {
     "name": "stdout",
     "output_type": "stream",
     "text": [
      "Initialized\n",
      "Loss at step 0: 14.774579\n",
      "Training accuracy: 18.0%\n",
      "Validation accuracy: 15.1%\n",
      "\n",
      "Loss at step 100: 0.037425\n",
      "Training accuracy: 100.0%\n",
      "Validation accuracy: 43.8%\n",
      "\n",
      "Loss at step 200: 0.035023\n",
      "Training accuracy: 100.0%\n",
      "Validation accuracy: 49.3%\n",
      "\n",
      "Loss at step 300: 0.039231\n",
      "Training accuracy: 100.0%\n",
      "Validation accuracy: 55.6%\n",
      "\n",
      "Loss at step 400: 0.041690\n",
      "Training accuracy: 100.0%\n",
      "Validation accuracy: 60.6%\n",
      "\n",
      "Loss at step 500: 0.042650\n",
      "Training accuracy: 100.0%\n",
      "Validation accuracy: 62.8%\n",
      "\n",
      "Loss at step 600: 0.042935\n",
      "Training accuracy: 100.0%\n",
      "Validation accuracy: 64.1%\n",
      "\n",
      "Loss at step 700: 0.042985\n",
      "Training accuracy: 100.0%\n",
      "Validation accuracy: 64.5%\n",
      "\n",
      "Loss at step 800: 0.042974\n",
      "Training accuracy: 100.0%\n",
      "Validation accuracy: 64.9%\n",
      "\n",
      "Loss at step 900: 0.042951\n",
      "Training accuracy: 100.0%\n",
      "Validation accuracy: 65.1%\n",
      "\n",
      "Loss at step 1000: 0.042928\n",
      "Training accuracy: 100.0%\n",
      "Validation accuracy: 65.1%\n",
      "\n",
      "Test accuracy: 71.5%\n"
     ]
    },
    {
     "data": {
      "image/png": "[encoded data removed]",
      "text/plain": [
       "<matplotlib.figure.Figure at 0x109ba8a20>"
      ]
     },
     "metadata": {},
     "output_type": "display_data"
    }
   ],
   "source": [
    "train_subset = 100\n",
    "beta = 0.01\n",
    "\n",
    "graph = tf.Graph()\n",
    "\n",
    "with graph.as_default():\n",
    "    \n",
    "    tf_train_dataset = tf.constant(\n",
    "        train_dataset[:train_subset, :]\n",
    "    )\n",
    "    tf_train_labels = tf.constant(\n",
    "        train_labels[:train_subset]\n",
    "    )\n",
    "    tf_valid_dataset = tf.constant(valid_dataset)\n",
    "    tf_test_datast = tf.constant(test_dataset)\n",
    "    \n",
    "    ''' variables '''\n",
    "    weights = tf.Variable(\n",
    "        tf.truncated_normal([\n",
    "            image_size * image_size,\n",
    "            num_labels\n",
    "        ])\n",
    "    )\n",
    "    biases = tf.Variable(tf.zeros([num_labels]))\n",
    "    \n",
    "    ''' training computation function '''\n",
    "    \n",
    "    logits = tf.matmul(tf_train_dataset, weights) + biases\n",
    "    \n",
    "    ''' loss function using L2 Regularization '''\n",
    "    loss = tf.reduce_mean(\n",
    "        tf.nn.softmax_cross_entropy_with_logits(logits, tf_train_labels)\n",
    "    )\n",
    "    loss_l2 = tf.reduce_mean(\n",
    "        loss + beta * tf.nn.l2_loss(weights)\n",
    "    )\n",
    "    \n",
    "    ''' optimize '''\n",
    "    optimizer = tf.train.GradientDescentOptimizer(0.5).minimize(loss_l2)\n",
    "    \n",
    "    ''' predictions '''\n",
    "    train_prediction = tf.nn.softmax(logits)\n",
    "    valid_prediction = tf.nn.softmax(\n",
    "        tf.matmul(tf_valid_dataset, weights) + biases\n",
    "    )\n",
    "    test_prediction = tf.nn.softmax(\n",
    "        tf.matmul(tf_test_datast, weights) + biases\n",
    "    )\n",
    "    \n",
    "getTFResults(graph, 1001)"
   ]
  },
  {
   "cell_type": "markdown",
   "metadata": {
    "colab_type": "text",
    "id": "ww3SCBUdlkRc"
   },
   "source": [
    "---\n",
    "Problem 3\n",
    "---------\n",
    "Introduce Dropout on the hidden layer of the neural network. Remember: Dropout should only be introduced during training, not evaluation, otherwise your evaluation results would be stochastic as well. TensorFlow provides `nn.dropout()` for that, but you have to make sure it's only inserted during training.\n",
    "\n",
    "What happens to our extreme overfitting case?\n",
    "\n",
    "---"
   ]
  },
  {
   "cell_type": "code",
   "execution_count": 8,
   "metadata": {
    "code_folding": [
     4
    ],
    "collapsed": false
   },
   "outputs": [],
   "source": [
    "batch_size = 128\n",
    "beta = 0.001\n",
    "\n",
    "graph = tf.Graph()\n",
    "with graph.as_default():\n",
    "\n",
    "    tf_train_dataset = tf.placeholder(\n",
    "        tf.float32,\n",
    "        shape=(batch_size, image_size * image_size)\n",
    "    )\n",
    "    tf_train_labels = tf.placeholder(\n",
    "        tf.float32,\n",
    "        shape=(batch_size, num_labels)\n",
    "    )\n",
    "    tf_valid_dataset = tf.constant(valid_dataset)\n",
    "    tf_test_datast = tf.constant(test_dataset)\n",
    "    \n",
    "    ''' hidden layer '''\n",
    "    num_nodes_hidden = 1024\n",
    "    weights_hidden = tf.Variable(\n",
    "        tf.truncated_normal([\n",
    "            image_size * image_size,\n",
    "            num_nodes_hidden\n",
    "        ])\n",
    "    )\n",
    "    biases_hidden = tf.Variable(\n",
    "        tf.zeros([num_nodes_hidden])\n",
    "    )\n",
    "    layer_hidden = tf.nn.relu(\n",
    "        tf.matmul(\n",
    "            tf_train_dataset,\n",
    "            weights_hidden\n",
    "        ) + biases_hidden\n",
    "    )\n",
    "    \n",
    "    ''' dropout hidden layer '''\n",
    "    prob_to_keep = tf.placeholder('float')\n",
    "    layer_drop_hidden = tf.nn.dropout(\n",
    "        layer_hidden,\n",
    "        prob_to_keep\n",
    "    )\n",
    "    \n",
    "    ''' variables '''\n",
    "    weights = tf.Variable(\n",
    "        tf.truncated_normal([\n",
    "            num_nodes_hidden,\n",
    "            num_labels\n",
    "        ])\n",
    "    )\n",
    "    biases = tf.Variable(tf.zeros([num_labels]))\n",
    "    \n",
    "    ''' training computation function '''\n",
    "    logits = tf.matmul(layer_drop_hidden, weights) + biases\n",
    "    \n",
    "    ''' loss function using L2 Regularization '''\n",
    "    loss = tf.reduce_mean(\n",
    "        tf.nn.softmax_cross_entropy_with_logits(logits, tf_train_labels)\n",
    "    )\n",
    "    loss_l2 = tf.reduce_mean(\n",
    "        loss + beta * tf.nn.l2_loss(weights)\n",
    "    )\n",
    "    \n",
    "    ''' optimize '''\n",
    "    optimizer = tf.train.GradientDescentOptimizer(0.5).minimize(loss_l2)\n",
    "    \n",
    "    ''' predictions '''\n",
    "    train_prediction = tf.nn.softmax(logits)\n",
    "    valid_relu = tf.nn.relu(\n",
    "        tf.matmul(\n",
    "            tf_valid_dataset,\n",
    "            weights_hidden\n",
    "        ) + biases_hidden\n",
    "    )\n",
    "    valid_prediction = tf.nn.softmax(\n",
    "        tf.matmul(\n",
    "            valid_relu,\n",
    "            weights\n",
    "        ) + biases\n",
    "    )\n",
    "    \n",
    "    test_relu = tf.nn.relu(\n",
    "        tf.matmul(\n",
    "            tf_test_datast,\n",
    "            weights_hidden\n",
    "        ) + biases_hidden\n",
    "    )\n",
    "    test_prediction = tf.nn.softmax(\n",
    "        tf.matmul(\n",
    "            test_relu,\n",
    "            weights\n",
    "        ) + biases\n",
    "    )"
   ]
  },
  {
   "cell_type": "code",
   "execution_count": 9,
   "metadata": {
    "code_folding": [
     5
    ],
    "collapsed": false,
    "scrolled": false
   },
   "outputs": [
    {
     "name": "stdout",
     "output_type": "stream",
     "text": [
      "Initialized\n",
      "Minibatch loss at step 0: 526.605652\n",
      "Minibatch loss at step 500: 26.460552\n",
      "Minibatch loss at step 1000: 14.115677\n",
      "Minibatch loss at step 1500: 10.033611\n",
      "Minibatch loss at step 2000: 5.278525\n",
      "Minibatch loss at step 2500: 4.963735\n",
      "Minibatch loss at step 3000: 3.709082\n",
      "Minibatch loss at step 3500: 4.581806\n",
      "Minibatch loss at step 4000: 7.460015\n",
      "Minibatch loss at step 4500: 6.529222\n",
      "Minibatch loss at step 5000: 5.690063\n",
      "Minibatch loss at step 5500: 3.268908\n",
      "Minibatch loss at step 6000: 2.245099\n",
      "Minibatch loss at step 6500: 1.837659\n",
      "Minibatch loss at step 7000: 6.448146\n",
      "Minibatch loss at step 7500: 2.333241\n",
      "Minibatch loss at step 8000: 4.474006\n",
      "Minibatch loss at step 8500: 1.420635\n",
      "Minibatch loss at step 9000: 3.735660\n",
      "Test accuracy: 88.7%\n"
     ]
    },
    {
     "data": {
      "text/plain": [
       "<matplotlib.axes._subplots.AxesSubplot at 0x116bc7438>"
      ]
     },
     "execution_count": 9,
     "metadata": {},
     "output_type": "execute_result"
    },
    {
     "data": {
      "image/png": "[encoded data removed]",
      "text/plain": [
       "<matplotlib.figure.Figure at 0x109bb66d8>"
      ]
     },
     "metadata": {},
     "output_type": "display_data"
    }
   ],
   "source": [
    "def getResults(graph, num_steps, print_while=False):\n",
    "    results = []\n",
    "    with tf.Session(graph=graph) as session:\n",
    "        tf.initialize_all_variables().run()\n",
    "        print(\"Initialized\")\n",
    "        for step in range(num_steps):\n",
    "            # Pick an offset within the training data, which has been randomized.\n",
    "            # Note: we could use better randomization across epochs.\n",
    "            offset = (step * batch_size) % (train_labels.shape[0] - batch_size)\n",
    "            # Generate a minibatch.\n",
    "            batch_data = train_dataset[offset:(offset + batch_size), :]\n",
    "            batch_labels = train_labels[offset:(offset + batch_size), :]\n",
    "\n",
    "            feed_dict = {\n",
    "                tf_train_dataset : batch_data,\n",
    "                tf_train_labels : batch_labels,\n",
    "                prob_to_keep : 0.5\n",
    "            }\n",
    "            _, l, predictions = session.run( [optimizer, loss_l2, train_prediction], feed_dict=feed_dict)\n",
    "            if (step % 500 == 0):\n",
    "                print(\"Minibatch loss at step %d: %f\" % (step, l))\n",
    "\n",
    "                if print_while is True:\n",
    "                    print(\"Minibatch accuracy: %.1f%%\" % accuracy(predictions, batch_labels))\n",
    "                    print(\"Validation accuracy: %.1f%%\" % accuracy( valid_prediction.eval(), valid_labels) )\n",
    "                    print('')\n",
    "\n",
    "                results.append({\n",
    "    #                 'loss': l,\n",
    "                    'minibatch': accuracy(predictions, batch_labels),\n",
    "                    'validation': accuracy( valid_prediction.eval(), valid_labels),\n",
    "                    'test': accuracy(test_prediction.eval(), test_labels)\n",
    "                })\n",
    "        print(\"Test accuracy: %.1f%%\" % accuracy(test_prediction.eval(), test_labels))\n",
    "    return pd.DataFrame(results)\n",
    "\n",
    "results = getResults(graph, 9001)\n",
    "results.plot()"
   ]
  },
  {
   "cell_type": "markdown",
   "metadata": {
    "colab_type": "text",
    "id": "-b1hTz3VWZjw"
   },
   "source": [
    "---\n",
    "Problem 4\n",
    "---------\n",
    "\n",
    "Try to get the best performance you can using a multi-layer model! The best reported test accuracy using a deep network is [97.1%](http://yaroslavvb.blogspot.com/2011/09/notmnist-dataset.html?showComment=1391023266211#c8758720086795711595).\n",
    "\n",
    "One avenue you can explore is to add multiple layers.\n",
    "\n",
    "Another one is to use learning rate decay:\n",
    "\n",
    "    global_step = tf.Variable(0)  # count the number of steps taken.\n",
    "    learning_rate = tf.train.exponential_decay(0.5, global_step, ...)\n",
    "    optimizer = tf.train.GradientDescentOptimizer(learning_rate).minimize(loss, global_step=global_step)\n",
    " \n",
    " ---\n"
   ]
  },
  {
   "cell_type": "markdown",
   "metadata": {},
   "source": [
    "## Smaller Beta"
   ]
  },
  {
   "cell_type": "code",
   "execution_count": 10,
   "metadata": {
    "code_folding": [],
    "collapsed": false
   },
   "outputs": [
    {
     "name": "stdout",
     "output_type": "stream",
     "text": [
      "Initialized\n",
      "Minibatch loss at step 0: 462.906738\n",
      "Minibatch loss at step 500: 37.284203\n",
      "Minibatch loss at step 1000: 17.481655\n",
      "Minibatch loss at step 1500: 14.448798\n",
      "Minibatch loss at step 2000: 4.980657\n",
      "Minibatch loss at step 2500: 5.545542\n",
      "Minibatch loss at step 3000: 2.451793\n",
      "Test accuracy: 84.8%\n"
     ]
    },
    {
     "data": {
      "text/plain": [
       "<matplotlib.axes._subplots.AxesSubplot at 0x116e1a2b0>"
      ]
     },
     "execution_count": 10,
     "metadata": {},
     "output_type": "execute_result"
    },
    {
     "data": {
      "image/png": "[encoded data removed]",
      "text/plain": [
       "<matplotlib.figure.Figure at 0x109ba2b38>"
      ]
     },
     "metadata": {},
     "output_type": "display_data"
    }
   ],
   "source": [
    "batch_size = 128\n",
    "beta = 0.0001\n",
    "\n",
    "graph = tf.Graph()\n",
    "with graph.as_default():\n",
    "\n",
    "    tf_train_dataset = tf.placeholder(\n",
    "        tf.float32,\n",
    "        shape=(batch_size, image_size * image_size)\n",
    "    )\n",
    "    tf_train_labels = tf.placeholder(\n",
    "        tf.float32,\n",
    "        shape=(batch_size, num_labels)\n",
    "    )\n",
    "    tf_valid_dataset = tf.constant(valid_dataset)\n",
    "    tf_test_datast = tf.constant(test_dataset)\n",
    "    \n",
    "    ''' hidden layer '''\n",
    "    num_nodes_hidden = 1024\n",
    "    weights_hidden = tf.Variable(\n",
    "        tf.truncated_normal([\n",
    "            image_size * image_size,\n",
    "            num_nodes_hidden\n",
    "        ])\n",
    "    )\n",
    "    biases_hidden = tf.Variable(\n",
    "        tf.zeros([num_nodes_hidden])\n",
    "    )\n",
    "    layer_hidden = tf.nn.relu(\n",
    "        tf.matmul(\n",
    "            tf_train_dataset,\n",
    "            weights_hidden\n",
    "        ) + biases_hidden\n",
    "    )\n",
    "    \n",
    "    ''' dropout hidden layer '''\n",
    "    prob_to_keep = tf.placeholder('float')\n",
    "    layer_drop_hidden = tf.nn.dropout(\n",
    "        layer_hidden,\n",
    "        prob_to_keep\n",
    "    )\n",
    "    \n",
    "    ''' variables '''\n",
    "    weights = tf.Variable(\n",
    "        tf.truncated_normal([\n",
    "            num_nodes_hidden,\n",
    "            num_labels\n",
    "        ])\n",
    "    )\n",
    "    biases = tf.Variable(tf.zeros([num_labels]))\n",
    "    \n",
    "    ''' training computation function '''\n",
    "    logits = tf.matmul(layer_drop_hidden, weights) + biases\n",
    "    \n",
    "    ''' loss function using L2 Regularization '''\n",
    "    loss = tf.reduce_mean(\n",
    "        tf.nn.softmax_cross_entropy_with_logits(logits, tf_train_labels)\n",
    "    )\n",
    "    loss_l2 = tf.reduce_mean(\n",
    "        loss + beta * tf.nn.l2_loss(weights)\n",
    "    )\n",
    "    \n",
    "    ''' optimize '''\n",
    "    optimizer = tf.train.GradientDescentOptimizer(0.5).minimize(loss_l2)\n",
    "    \n",
    "    ''' predictions '''\n",
    "    train_prediction = tf.nn.softmax(logits)\n",
    "    valid_relu = tf.nn.relu(\n",
    "        tf.matmul(\n",
    "            tf_valid_dataset,\n",
    "            weights_hidden\n",
    "        ) + biases_hidden\n",
    "    )\n",
    "    valid_prediction = tf.nn.softmax(\n",
    "        tf.matmul(\n",
    "            valid_relu,\n",
    "            weights\n",
    "        ) + biases\n",
    "    )\n",
    "    \n",
    "    test_relu = tf.nn.relu(\n",
    "        tf.matmul(\n",
    "            tf_test_datast,\n",
    "            weights_hidden\n",
    "        ) + biases_hidden\n",
    "    )\n",
    "    test_prediction = tf.nn.softmax(\n",
    "        tf.matmul(\n",
    "            test_relu,\n",
    "            weights\n",
    "        ) + biases\n",
    "    )\n",
    "    \n",
    "results = getResults(graph, 3001)\n",
    "results.plot()"
   ]
  },
  {
   "cell_type": "markdown",
   "metadata": {},
   "source": [
    "## Above, with Adjustable learning rate "
   ]
  },
  {
   "cell_type": "code",
   "execution_count": 18,
   "metadata": {
    "code_folding": [
     9
    ],
    "collapsed": false,
    "scrolled": false
   },
   "outputs": [
    {
     "name": "stdout",
     "output_type": "stream",
     "text": [
      "Initialized\n",
      "Minibatch loss at step 0: 474.642670\n",
      "Minibatch loss at step 500: 42.361042\n",
      "Minibatch loss at step 1000: 74.282494\n",
      "Minibatch loss at step 1500: 40.085381\n",
      "Minibatch loss at step 2000: 38.190422\n",
      "Minibatch loss at step 2500: 43.263569\n",
      "Minibatch loss at step 3000: 32.723412\n",
      "Minibatch loss at step 3500: 37.119656\n",
      "Minibatch loss at step 4000: 21.049852\n",
      "Minibatch loss at step 4500: 22.761265\n",
      "Minibatch loss at step 5000: 24.585985\n",
      "Minibatch loss at step 5500: 33.273804\n",
      "Minibatch loss at step 6000: 16.840019\n",
      "Minibatch loss at step 6500: 15.767641\n",
      "Minibatch loss at step 7000: 16.809067\n",
      "Minibatch loss at step 7500: 16.567289\n",
      "Minibatch loss at step 8000: 17.249599\n",
      "Minibatch loss at step 8500: 12.182506\n",
      "Minibatch loss at step 9000: 13.861042\n",
      "Test accuracy: 91.3%\n"
     ]
    },
    {
     "data": {
      "text/plain": [
       "<matplotlib.axes._subplots.AxesSubplot at 0x11017c160>"
      ]
     },
     "execution_count": 18,
     "metadata": {},
     "output_type": "execute_result"
    },
    {
     "data": {
      "image/png": "[encoded data removed]",
      "text/plain": [
       "<matplotlib.figure.Figure at 0x1101d14a8>"
      ]
     },
     "metadata": {},
     "output_type": "display_data"
    }
   ],
   "source": [
    "batch_size = 128\n",
    "beta = 0.001\n",
    "\n",
    "starter_learning_rate = 0.01\n",
    "decay_steps = 100000\n",
    "decay_rate = 0.96\n",
    "staircase = True\n",
    "\n",
    "graph = tf.Graph()\n",
    "with graph.as_default():\n",
    "\n",
    "    tf_train_dataset = tf.placeholder(\n",
    "        tf.float32,\n",
    "        shape=(batch_size, image_size * image_size)\n",
    "    )\n",
    "    tf_train_labels = tf.placeholder(\n",
    "        tf.float32,\n",
    "        shape=(batch_size, num_labels)\n",
    "    )\n",
    "    tf_valid_dataset = tf.constant(valid_dataset)\n",
    "    tf_test_datast = tf.constant(test_dataset)\n",
    "    \n",
    "    ''' hidden layer '''\n",
    "    num_nodes_hidden = 1024\n",
    "    weights_hidden = tf.Variable(\n",
    "        tf.truncated_normal([\n",
    "            image_size * image_size,\n",
    "            num_nodes_hidden\n",
    "        ])\n",
    "    )\n",
    "    biases_hidden = tf.Variable(\n",
    "        tf.zeros([num_nodes_hidden])\n",
    "    )\n",
    "    layer_hidden = tf.nn.relu(\n",
    "        tf.matmul(\n",
    "            tf_train_dataset,\n",
    "            weights_hidden\n",
    "        ) + biases_hidden\n",
    "    )\n",
    "    \n",
    "    \n",
    "    ''' dropout hidden layer '''\n",
    "    prob_to_keep = tf.placeholder('float')\n",
    "    layer_drop_hidden = tf.nn.dropout(\n",
    "        layer_hidden,\n",
    "        prob_to_keep\n",
    "    )\n",
    "    \n",
    "    ''' variables '''\n",
    "    weights = tf.Variable(\n",
    "        tf.truncated_normal([\n",
    "            num_nodes_hidden,\n",
    "            num_labels\n",
    "        ])\n",
    "    )\n",
    "    biases = tf.Variable(tf.zeros([num_labels]))\n",
    "    \n",
    "    ''' training computation function '''\n",
    "    logits = tf.matmul(layer_drop_hidden, weights) + biases\n",
    "    \n",
    "    ''' loss function using L2 Regularization '''\n",
    "    loss = tf.reduce_mean(\n",
    "        tf.nn.softmax_cross_entropy_with_logits(logits, tf_train_labels)\n",
    "    )\n",
    "    loss_l2 = tf.reduce_mean(\n",
    "        loss + beta * tf.nn.l2_loss(weights)\n",
    "    )\n",
    "    \n",
    "    ''' optimize with learning rate being adjusted '''\n",
    "    global_step = tf.Variable(0, trainable=False)\n",
    "\n",
    "    learning_rate = tf.train.exponential_decay(\n",
    "        starter_learning_rate,\n",
    "        global_step,\n",
    "        decay_steps,\n",
    "        decay_rate,\n",
    "        staircase\n",
    "    )\n",
    "    optimizer = tf.train.GradientDescentOptimizer(learning_rate).minimize(loss_l2)\n",
    "    # optimizer = tf.train.GradientDescentOptimizer(0.5).minimize(loss_l2)\n",
    "\n",
    "    \n",
    "    ''' predictions '''\n",
    "    train_prediction = tf.nn.softmax(logits)\n",
    "    valid_relu = tf.nn.relu(\n",
    "        tf.matmul(\n",
    "            tf_valid_dataset,\n",
    "            weights_hidden\n",
    "        ) + biases_hidden\n",
    "    )\n",
    "    valid_prediction = tf.nn.softmax(\n",
    "        tf.matmul(\n",
    "            valid_relu,\n",
    "            weights\n",
    "        ) + biases\n",
    "    )\n",
    "    \n",
    "    test_relu = tf.nn.relu(\n",
    "        tf.matmul(\n",
    "            tf_test_datast,\n",
    "            weights_hidden\n",
    "        ) + biases_hidden\n",
    "    )\n",
    "    test_prediction = tf.nn.softmax(\n",
    "        tf.matmul(\n",
    "            test_relu,\n",
    "            weights\n",
    "        ) + biases\n",
    "    )\n",
    "    \n",
    "results = getResults(graph, 9001)\n",
    "results.plot()"
   ]
  },
  {
   "cell_type": "markdown",
   "metadata": {},
   "source": [
    "## More steps on above!"
   ]
  },
  {
   "cell_type": "code",
   "execution_count": 19,
   "metadata": {
    "collapsed": false
   },
   "outputs": [
    {
     "name": "stdout",
     "output_type": "stream",
     "text": [
      "Initialized\n",
      "Minibatch loss at step 0: 504.667542\n",
      "Minibatch loss at step 500: 71.845901\n",
      "Minibatch loss at step 1000: 74.292046\n",
      "Minibatch loss at step 1500: 46.610199\n",
      "Minibatch loss at step 2000: 39.847752\n",
      "Minibatch loss at step 2500: 37.042236\n",
      "Minibatch loss at step 3000: 34.767834\n",
      "Minibatch loss at step 3500: 33.890205\n",
      "Minibatch loss at step 4000: 28.350229\n",
      "Minibatch loss at step 4500: 22.612356\n",
      "Minibatch loss at step 5000: 24.005623\n",
      "Minibatch loss at step 5500: 19.752203\n",
      "Minibatch loss at step 6000: 19.282927\n",
      "Minibatch loss at step 6500: 13.887416\n",
      "Minibatch loss at step 7000: 19.731289\n",
      "Minibatch loss at step 7500: 13.845834\n",
      "Minibatch loss at step 8000: 20.749552\n",
      "Minibatch loss at step 8500: 13.188600\n",
      "Minibatch loss at step 9000: 11.955771\n",
      "Minibatch loss at step 9500: 10.581141\n",
      "Minibatch loss at step 10000: 8.737448\n",
      "Minibatch loss at step 10500: 7.912391\n",
      "Minibatch loss at step 11000: 8.271331\n",
      "Minibatch loss at step 11500: 9.107540\n",
      "Minibatch loss at step 12000: 6.824302\n",
      "Minibatch loss at step 12500: 4.754635\n",
      "Minibatch loss at step 13000: 6.586696\n",
      "Minibatch loss at step 13500: 4.944367\n",
      "Minibatch loss at step 14000: 4.559353\n",
      "Minibatch loss at step 14500: 3.950721\n",
      "Minibatch loss at step 15000: 2.929541\n",
      "Minibatch loss at step 15500: 3.065069\n",
      "Minibatch loss at step 16000: 2.478194\n",
      "Minibatch loss at step 16500: 2.072395\n",
      "Minibatch loss at step 17000: 1.595641\n",
      "Minibatch loss at step 17500: 1.328760\n",
      "Minibatch loss at step 18000: 1.053810\n",
      "Test accuracy: 89.8%\n"
     ]
    },
    {
     "data": {
      "text/plain": [
       "<matplotlib.axes._subplots.AxesSubplot at 0x11221add8>"
      ]
     },
     "execution_count": 19,
     "metadata": {},
     "output_type": "execute_result"
    },
    {
     "data": {
      "image/png": "[encoded data removed]",
      "text/plain": [
       "<matplotlib.figure.Figure at 0x109b52a20>"
      ]
     },
     "metadata": {},
     "output_type": "display_data"
    }
   ],
   "source": [
    "results = getResults(graph, 18001)\n",
    "results.plot()"
   ]
  },
  {
   "cell_type": "markdown",
   "metadata": {},
   "source": [
    "## Try without staircase"
   ]
  },
  {
   "cell_type": "code",
   "execution_count": 20,
   "metadata": {
    "code_folding": [
     9
    ],
    "collapsed": false
   },
   "outputs": [
    {
     "name": "stdout",
     "output_type": "stream",
     "text": [
      "Initialized\n",
      "Minibatch loss at step 0: 474.521820\n",
      "Minibatch loss at step 500: 82.303070\n",
      "Minibatch loss at step 1000: 79.664459\n",
      "Minibatch loss at step 1500: 38.445599\n",
      "Minibatch loss at step 2000: 39.482975\n",
      "Minibatch loss at step 2500: 41.036152\n",
      "Minibatch loss at step 3000: 33.605465\n",
      "Minibatch loss at step 3500: 40.065220\n",
      "Minibatch loss at step 4000: 35.544403\n",
      "Minibatch loss at step 4500: 26.976303\n",
      "Minibatch loss at step 5000: 21.705391\n",
      "Minibatch loss at step 5500: 25.557566\n",
      "Minibatch loss at step 6000: 15.751524\n",
      "Minibatch loss at step 6500: 15.651579\n",
      "Minibatch loss at step 7000: 16.146669\n",
      "Minibatch loss at step 7500: 18.817150\n",
      "Minibatch loss at step 8000: 25.981953\n",
      "Minibatch loss at step 8500: 13.176536\n",
      "Minibatch loss at step 9000: 14.898055\n",
      "Test accuracy: 91.0%\n"
     ]
    },
    {
     "data": {
      "text/plain": [
       "<matplotlib.axes._subplots.AxesSubplot at 0x11380f2e8>"
      ]
     },
     "execution_count": 20,
     "metadata": {},
     "output_type": "execute_result"
    },
    {
     "data": {
      "image/png": "[encoded data removed]",
      "text/plain": [
       "<matplotlib.figure.Figure at 0x11010e8d0>"
      ]
     },
     "metadata": {},
     "output_type": "display_data"
    }
   ],
   "source": [
    "batch_size = 128\n",
    "beta = 0.001\n",
    "\n",
    "starter_learning_rate = 0.01\n",
    "decay_steps = 100000\n",
    "decay_rate = 0.96\n",
    "staircase = False\n",
    "\n",
    "graph = tf.Graph()\n",
    "with graph.as_default():\n",
    "\n",
    "    tf_train_dataset = tf.placeholder(\n",
    "        tf.float32,\n",
    "        shape=(batch_size, image_size * image_size)\n",
    "    )\n",
    "    tf_train_labels = tf.placeholder(\n",
    "        tf.float32,\n",
    "        shape=(batch_size, num_labels)\n",
    "    )\n",
    "    tf_valid_dataset = tf.constant(valid_dataset)\n",
    "    tf_test_datast = tf.constant(test_dataset)\n",
    "    \n",
    "    ''' hidden layer '''\n",
    "    num_nodes_hidden = 1024\n",
    "    weights_hidden = tf.Variable(\n",
    "        tf.truncated_normal([\n",
    "            image_size * image_size,\n",
    "            num_nodes_hidden\n",
    "        ])\n",
    "    )\n",
    "    biases_hidden = tf.Variable(\n",
    "        tf.zeros([num_nodes_hidden])\n",
    "    )\n",
    "    layer_hidden = tf.nn.relu(\n",
    "        tf.matmul(\n",
    "            tf_train_dataset,\n",
    "            weights_hidden\n",
    "        ) + biases_hidden\n",
    "    )\n",
    "    \n",
    "    \n",
    "    ''' dropout hidden layer '''\n",
    "    prob_to_keep = tf.placeholder('float')\n",
    "    layer_drop_hidden = tf.nn.dropout(\n",
    "        layer_hidden,\n",
    "        prob_to_keep\n",
    "    )\n",
    "    \n",
    "    ''' variables '''\n",
    "    weights = tf.Variable(\n",
    "        tf.truncated_normal([\n",
    "            num_nodes_hidden,\n",
    "            num_labels\n",
    "        ])\n",
    "    )\n",
    "    biases = tf.Variable(tf.zeros([num_labels]))\n",
    "    \n",
    "    ''' training computation function '''\n",
    "    logits = tf.matmul(layer_drop_hidden, weights) + biases\n",
    "    \n",
    "    ''' loss function using L2 Regularization '''\n",
    "    loss = tf.reduce_mean(\n",
    "        tf.nn.softmax_cross_entropy_with_logits(logits, tf_train_labels)\n",
    "    )\n",
    "    loss_l2 = tf.reduce_mean(\n",
    "        loss + beta * tf.nn.l2_loss(weights)\n",
    "    )\n",
    "    \n",
    "    ''' optimize with learning rate being adjusted '''\n",
    "    global_step = tf.Variable(0, trainable=False)\n",
    "\n",
    "    learning_rate = tf.train.exponential_decay(\n",
    "        starter_learning_rate,\n",
    "        global_step,\n",
    "        decay_steps,\n",
    "        decay_rate,\n",
    "        staircase\n",
    "    )\n",
    "    optimizer = tf.train.GradientDescentOptimizer(learning_rate).minimize(loss_l2)\n",
    "    # optimizer = tf.train.GradientDescentOptimizer(0.5).minimize(loss_l2)\n",
    "\n",
    "    \n",
    "    ''' predictions '''\n",
    "    train_prediction = tf.nn.softmax(logits)\n",
    "    valid_relu = tf.nn.relu(\n",
    "        tf.matmul(\n",
    "            tf_valid_dataset,\n",
    "            weights_hidden\n",
    "        ) + biases_hidden\n",
    "    )\n",
    "    valid_prediction = tf.nn.softmax(\n",
    "        tf.matmul(\n",
    "            valid_relu,\n",
    "            weights\n",
    "        ) + biases\n",
    "    )\n",
    "    \n",
    "    test_relu = tf.nn.relu(\n",
    "        tf.matmul(\n",
    "            tf_test_datast,\n",
    "            weights_hidden\n",
    "        ) + biases_hidden\n",
    "    )\n",
    "    test_prediction = tf.nn.softmax(\n",
    "        tf.matmul(\n",
    "            test_relu,\n",
    "            weights\n",
    "        ) + biases\n",
    "    )\n",
    "    \n",
    "    \n",
    "results = getResults(graph, 9001)\n",
    "results.plot()"
   ]
  },
  {
   "cell_type": "markdown",
   "metadata": {},
   "source": [
    "## Added global step to GDO"
   ]
  },
  {
   "cell_type": "code",
   "execution_count": 21,
   "metadata": {
    "code_folding": [
     9
    ],
    "collapsed": false
   },
   "outputs": [
    {
     "name": "stdout",
     "output_type": "stream",
     "text": [
      "Initialized\n",
      "Minibatch loss at step 0: 471.495239\n",
      "Minibatch loss at step 500: 55.303528\n",
      "Minibatch loss at step 1000: 65.699265\n",
      "Minibatch loss at step 1500: 45.239727\n",
      "Minibatch loss at step 2000: 41.572273\n",
      "Minibatch loss at step 2500: 54.774696\n",
      "Minibatch loss at step 3000: 34.677269\n",
      "Minibatch loss at step 3500: 33.382103\n",
      "Minibatch loss at step 4000: 36.092155\n",
      "Minibatch loss at step 4500: 24.672216\n",
      "Minibatch loss at step 5000: 22.934101\n",
      "Minibatch loss at step 5500: 23.681767\n",
      "Minibatch loss at step 6000: 24.799286\n",
      "Minibatch loss at step 6500: 20.711287\n",
      "Minibatch loss at step 7000: 15.203753\n",
      "Minibatch loss at step 7500: 17.478598\n",
      "Minibatch loss at step 8000: 21.567366\n",
      "Minibatch loss at step 8500: 7.568035\n",
      "Minibatch loss at step 9000: 14.593655\n",
      "Test accuracy: 91.0%\n"
     ]
    },
    {
     "data": {
      "text/plain": [
       "<matplotlib.axes._subplots.AxesSubplot at 0x10f7b9f60>"
      ]
     },
     "execution_count": 21,
     "metadata": {},
     "output_type": "execute_result"
    },
    {
     "data": {
      "image/png": "[encoded data removed]",
      "text/plain": [
       "<matplotlib.figure.Figure at 0x112bdddd8>"
      ]
     },
     "metadata": {},
     "output_type": "display_data"
    }
   ],
   "source": [
    "batch_size = 128\n",
    "beta = 0.001\n",
    "\n",
    "starter_learning_rate = 0.01\n",
    "decay_steps = 100000\n",
    "decay_rate = 0.96\n",
    "staircase = False\n",
    "\n",
    "graph = tf.Graph()\n",
    "with graph.as_default():\n",
    "\n",
    "    tf_train_dataset = tf.placeholder(\n",
    "        tf.float32,\n",
    "        shape=(batch_size, image_size * image_size)\n",
    "    )\n",
    "    tf_train_labels = tf.placeholder(\n",
    "        tf.float32,\n",
    "        shape=(batch_size, num_labels)\n",
    "    )\n",
    "    tf_valid_dataset = tf.constant(valid_dataset)\n",
    "    tf_test_datast = tf.constant(test_dataset)\n",
    "    \n",
    "    ''' hidden layer '''\n",
    "    num_nodes_hidden = 1024\n",
    "    weights_hidden = tf.Variable(\n",
    "        tf.truncated_normal([\n",
    "            image_size * image_size,\n",
    "            num_nodes_hidden\n",
    "        ])\n",
    "    )\n",
    "    biases_hidden = tf.Variable(\n",
    "        tf.zeros([num_nodes_hidden])\n",
    "    )\n",
    "    layer_hidden = tf.nn.relu(\n",
    "        tf.matmul(\n",
    "            tf_train_dataset,\n",
    "            weights_hidden\n",
    "        ) + biases_hidden\n",
    "    )\n",
    "    \n",
    "    \n",
    "    ''' dropout hidden layer '''\n",
    "    prob_to_keep = tf.placeholder('float')\n",
    "    layer_drop_hidden = tf.nn.dropout(\n",
    "        layer_hidden,\n",
    "        prob_to_keep\n",
    "    )\n",
    "    \n",
    "    ''' variables '''\n",
    "    weights = tf.Variable(\n",
    "        tf.truncated_normal([\n",
    "            num_nodes_hidden,\n",
    "            num_labels\n",
    "        ])\n",
    "    )\n",
    "    biases = tf.Variable(tf.zeros([num_labels]))\n",
    "    \n",
    "    ''' training computation function '''\n",
    "    logits = tf.matmul(layer_drop_hidden, weights) + biases\n",
    "    \n",
    "    ''' loss function using L2 Regularization '''\n",
    "    loss = tf.reduce_mean(\n",
    "        tf.nn.softmax_cross_entropy_with_logits(logits, tf_train_labels)\n",
    "    )\n",
    "    loss_l2 = tf.reduce_mean(\n",
    "        loss + beta * tf.nn.l2_loss(weights)\n",
    "    )\n",
    "    \n",
    "    ''' optimize with learning rate being adjusted '''\n",
    "    global_step = tf.Variable(0, trainable=False)\n",
    "\n",
    "    learning_rate = tf.train.exponential_decay(\n",
    "        starter_learning_rate,\n",
    "        global_step,\n",
    "        decay_steps,\n",
    "        decay_rate,\n",
    "        staircase\n",
    "    )\n",
    "    optimizer = tf.train.GradientDescentOptimizer(learning_rate).minimize(loss_l2, global_step=global_step)\n",
    "    # optimizer = tf.train.GradientDescentOptimizer(0.5).minimize(loss_l2)\n",
    "\n",
    "    \n",
    "    ''' predictions '''\n",
    "    train_prediction = tf.nn.softmax(logits)\n",
    "    valid_relu = tf.nn.relu(\n",
    "        tf.matmul(\n",
    "            tf_valid_dataset,\n",
    "            weights_hidden\n",
    "        ) + biases_hidden\n",
    "    )\n",
    "    valid_prediction = tf.nn.softmax(\n",
    "        tf.matmul(\n",
    "            valid_relu,\n",
    "            weights\n",
    "        ) + biases\n",
    "    )\n",
    "    \n",
    "    test_relu = tf.nn.relu(\n",
    "        tf.matmul(\n",
    "            tf_test_datast,\n",
    "            weights_hidden\n",
    "        ) + biases_hidden\n",
    "    )\n",
    "    test_prediction = tf.nn.softmax(\n",
    "        tf.matmul(\n",
    "            test_relu,\n",
    "            weights\n",
    "        ) + biases\n",
    "    )\n",
    "    \n",
    "    \n",
    "results = getResults(graph, 9001)\n",
    "results.plot()"
   ]
  },
  {
   "cell_type": "markdown",
   "metadata": {},
   "source": [
    "## Above with staircase on"
   ]
  },
  {
   "cell_type": "code",
   "execution_count": 22,
   "metadata": {
    "code_folding": [
     9
    ],
    "collapsed": false
   },
   "outputs": [
    {
     "name": "stdout",
     "output_type": "stream",
     "text": [
      "Initialized\n",
      "Minibatch loss at step 0: 499.036804\n",
      "Minibatch loss at step 500: 61.826626\n",
      "Minibatch loss at step 1000: 64.190704\n",
      "Minibatch loss at step 1500: 33.071568\n",
      "Minibatch loss at step 2000: 34.673206\n",
      "Minibatch loss at step 2500: 41.867645\n",
      "Minibatch loss at step 3000: 39.082767\n",
      "Minibatch loss at step 3500: 32.325771\n",
      "Minibatch loss at step 4000: 17.672661\n",
      "Minibatch loss at step 4500: 22.983509\n",
      "Minibatch loss at step 5000: 18.208973\n",
      "Minibatch loss at step 5500: 24.067165\n",
      "Minibatch loss at step 6000: 16.103811\n",
      "Minibatch loss at step 6500: 11.877369\n",
      "Minibatch loss at step 7000: 11.700448\n",
      "Minibatch loss at step 7500: 18.024632\n",
      "Minibatch loss at step 8000: 23.716696\n",
      "Minibatch loss at step 8500: 11.785963\n",
      "Minibatch loss at step 9000: 15.511315\n",
      "Test accuracy: 91.3%\n"
     ]
    },
    {
     "data": {
      "text/plain": [
       "<matplotlib.axes._subplots.AxesSubplot at 0x11340b160>"
      ]
     },
     "execution_count": 22,
     "metadata": {},
     "output_type": "execute_result"
    },
    {
     "data": {
      "image/png": "[encoded data removed]",
      "text/plain": [
       "<matplotlib.figure.Figure at 0x110112b00>"
      ]
     },
     "metadata": {},
     "output_type": "display_data"
    }
   ],
   "source": [
    "batch_size = 128\n",
    "beta = 0.001\n",
    "\n",
    "starter_learning_rate = 0.01\n",
    "decay_steps = 100000\n",
    "decay_rate = 0.96\n",
    "staircase = True\n",
    "\n",
    "graph = tf.Graph()\n",
    "with graph.as_default():\n",
    "\n",
    "    tf_train_dataset = tf.placeholder(\n",
    "        tf.float32,\n",
    "        shape=(batch_size, image_size * image_size)\n",
    "    )\n",
    "    tf_train_labels = tf.placeholder(\n",
    "        tf.float32,\n",
    "        shape=(batch_size, num_labels)\n",
    "    )\n",
    "    tf_valid_dataset = tf.constant(valid_dataset)\n",
    "    tf_test_datast = tf.constant(test_dataset)\n",
    "    \n",
    "    ''' hidden layer '''\n",
    "    num_nodes_hidden = 1024\n",
    "    weights_hidden = tf.Variable(\n",
    "        tf.truncated_normal([\n",
    "            image_size * image_size,\n",
    "            num_nodes_hidden\n",
    "        ])\n",
    "    )\n",
    "    biases_hidden = tf.Variable(\n",
    "        tf.zeros([num_nodes_hidden])\n",
    "    )\n",
    "    layer_hidden = tf.nn.relu(\n",
    "        tf.matmul(\n",
    "            tf_train_dataset,\n",
    "            weights_hidden\n",
    "        ) + biases_hidden\n",
    "    )\n",
    "    \n",
    "    \n",
    "    ''' dropout hidden layer '''\n",
    "    prob_to_keep = tf.placeholder('float')\n",
    "    layer_drop_hidden = tf.nn.dropout(\n",
    "        layer_hidden,\n",
    "        prob_to_keep\n",
    "    )\n",
    "    \n",
    "    ''' variables '''\n",
    "    weights = tf.Variable(\n",
    "        tf.truncated_normal([\n",
    "            num_nodes_hidden,\n",
    "            num_labels\n",
    "        ])\n",
    "    )\n",
    "    biases = tf.Variable(tf.zeros([num_labels]))\n",
    "    \n",
    "    ''' training computation function '''\n",
    "    logits = tf.matmul(layer_drop_hidden, weights) + biases\n",
    "    \n",
    "    ''' loss function using L2 Regularization '''\n",
    "    loss = tf.reduce_mean(\n",
    "        tf.nn.softmax_cross_entropy_with_logits(logits, tf_train_labels)\n",
    "    )\n",
    "    loss_l2 = tf.reduce_mean(\n",
    "        loss + beta * tf.nn.l2_loss(weights)\n",
    "    )\n",
    "    \n",
    "    ''' optimize with learning rate being adjusted '''\n",
    "    global_step = tf.Variable(0, trainable=False)\n",
    "\n",
    "    learning_rate = tf.train.exponential_decay(\n",
    "        starter_learning_rate,\n",
    "        global_step,\n",
    "        decay_steps,\n",
    "        decay_rate,\n",
    "        staircase\n",
    "    )\n",
    "    optimizer = tf.train.GradientDescentOptimizer(learning_rate).minimize(loss_l2, global_step=global_step)\n",
    "    # optimizer = tf.train.GradientDescentOptimizer(0.5).minimize(loss_l2)\n",
    "\n",
    "    \n",
    "    ''' predictions '''\n",
    "    train_prediction = tf.nn.softmax(logits)\n",
    "    valid_relu = tf.nn.relu(\n",
    "        tf.matmul(\n",
    "            tf_valid_dataset,\n",
    "            weights_hidden\n",
    "        ) + biases_hidden\n",
    "    )\n",
    "    valid_prediction = tf.nn.softmax(\n",
    "        tf.matmul(\n",
    "            valid_relu,\n",
    "            weights\n",
    "        ) + biases\n",
    "    )\n",
    "    \n",
    "    test_relu = tf.nn.relu(\n",
    "        tf.matmul(\n",
    "            tf_test_datast,\n",
    "            weights_hidden\n",
    "        ) + biases_hidden\n",
    "    )\n",
    "    test_prediction = tf.nn.softmax(\n",
    "        tf.matmul(\n",
    "            test_relu,\n",
    "            weights\n",
    "        ) + biases\n",
    "    )\n",
    "    \n",
    "    \n",
    "results = getResults(graph, 9001)\n",
    "results.plot()"
   ]
  },
  {
   "cell_type": "markdown",
   "metadata": {},
   "source": [
    "## Try a second hidden layer"
   ]
  },
  {
   "cell_type": "code",
   "execution_count": null,
   "metadata": {
    "code_folding": [
     13
    ],
    "collapsed": false,
    "scrolled": false
   },
   "outputs": [
    {
     "name": "stdout",
     "output_type": "stream",
     "text": [
      "Initialized\n",
      "Minibatch loss at step 0: 13057.684570\n",
      "Minibatch accuracy: 13.3%\n",
      "Validation accuracy: 12.4%\n",
      "Test accuracy: 12.7%\n",
      "\n",
      "Minibatch loss at step 500: 810.420837\n",
      "Minibatch accuracy: 60.2%\n",
      "Validation accuracy: 78.7%\n",
      "Test accuracy: 86.0%\n",
      "\n",
      "Minibatch loss at step 1000: 445.781403\n",
      "Minibatch accuracy: 65.6%\n",
      "Validation accuracy: 78.3%\n",
      "Test accuracy: 85.3%\n",
      "\n",
      "Minibatch loss at step 1500: 206.082321\n",
      "Minibatch accuracy: 66.4%\n",
      "Validation accuracy: 78.1%\n",
      "Test accuracy: 85.2%\n",
      "\n",
      "Minibatch loss at step 2000: 160.543121\n",
      "Minibatch accuracy: 51.6%\n",
      "Validation accuracy: 77.5%\n",
      "Test accuracy: 84.6%\n",
      "\n",
      "Minibatch loss at step 2500: 120.333481\n",
      "Minibatch accuracy: 51.6%\n",
      "Validation accuracy: 75.0%\n",
      "Test accuracy: 82.1%\n",
      "\n",
      "Minibatch loss at step 3000: 96.579292\n",
      "Minibatch accuracy: 45.3%\n",
      "Validation accuracy: 74.5%\n",
      "Test accuracy: 81.3%\n",
      "\n",
      "Minibatch loss at step 3500: 77.280273\n",
      "Minibatch accuracy: 51.6%\n",
      "Validation accuracy: 73.7%\n",
      "Test accuracy: 80.5%\n",
      "\n",
      "Minibatch loss at step 4000: 63.349602\n",
      "Minibatch accuracy: 55.5%\n",
      "Validation accuracy: 75.5%\n",
      "Test accuracy: 82.8%\n",
      "\n"
     ]
    }
   ],
   "source": [
    "batch_size = 128\n",
    "beta = 0.001\n",
    "num_steps = 9001\n",
    "\n",
    "num_hidden_nodes_layer_1 = 1024\n",
    "num_hidden_nodes_layer_2 = 512\n",
    "\n",
    "starter_learning_rate = 0.001\n",
    "decay_steps = 100000\n",
    "decay_rate = 0.96\n",
    "staircase = True\n",
    "\n",
    "graph = tf.Graph()\n",
    "with graph.as_default():\n",
    "    ''' input data '''\n",
    "    tf_train_dataset = tf.placeholder(tf.float32, shape=(batch_size, image_size * image_size))\n",
    "    tf_train_labels = tf.placeholder(tf.float32, shape=(batch_size, num_labels))\n",
    "    tf_valid_dataset = tf.constant(valid_dataset)\n",
    "    tf_test_dataset = tf.constant(test_dataset)\n",
    "\n",
    "    ''' hidden layer 1'''\n",
    "    hidden_weights_layer_1 = tf.Variable( tf.truncated_normal([image_size * image_size, num_hidden_nodes_layer_1]) )\n",
    "    hidden_biases_layer_1 = tf.Variable( tf.zeros([num_hidden_nodes_layer_1]))\n",
    "    hidden_layer_1 = tf.nn.relu( tf.matmul( tf_train_dataset, hidden_weights_layer_1) + hidden_biases_layer_1)\n",
    "    keep_prob_layer_1 = tf.placeholder(\"float\")\n",
    "    hidden_layer_1_drop = tf.nn.dropout(hidden_layer_1, keep_prob_layer_1)\n",
    "    \n",
    "    ''' hidden layer 2 '''    \n",
    "    hidden_weights_layer_2 = tf.Variable( tf.truncated_normal([num_hidden_nodes_layer_1, num_hidden_nodes_layer_2]) )\n",
    "    hidden_biases_layer_2 = tf.Variable( tf.zeros([num_hidden_nodes_layer_2]))\n",
    "    hidden_layer_2 = tf.nn.relu( tf.matmul( hidden_layer_1_drop, hidden_weights_layer_2) + hidden_biases_layer_2)\n",
    "    keep_prob_layer_2 = tf.placeholder(\"float\")\n",
    "    hidden_layer_2_drop = tf.nn.dropout(hidden_layer_2, keep_prob_layer_2)\n",
    "    \n",
    "    weights = tf.Variable( tf.truncated_normal([num_hidden_nodes_layer_2, num_labels])) \n",
    "    biases = tf.Variable(tf.zeros([num_labels]))\n",
    "\n",
    "    logits = tf.matmul(hidden_layer_2_drop, weights) + biases\n",
    "    \n",
    "    loss = tf.reduce_mean( tf.nn.softmax_cross_entropy_with_logits(logits, tf_train_labels) )\n",
    "    loss_l2 = tf.reduce_mean( loss + beta * tf.nn.l2_loss(weights) )\n",
    "\n",
    "    global_step = tf.Variable(0, trainable=False)\n",
    "    learnr = tf.placeholder(\"float\")\n",
    "\n",
    "    learning_rate = tf.train.exponential_decay(learnr, global_step, decay_steps, decay_rate, staircase=staircase)\n",
    "    optimizer = tf.train.GradientDescentOptimizer(learning_rate).minimize(loss_l2, global_step=global_step)\n",
    "\n",
    "    train_prediction = tf.nn.softmax(logits)    \n",
    "    \n",
    "    valid_relu1 = tf.nn.relu(  tf.matmul(tf_valid_dataset, hidden_weights_layer_1) + hidden_biases_layer_1)    \n",
    "    valid_relu2 = tf.nn.relu(  tf.matmul(valid_relu1, hidden_weights_layer_2) + hidden_biases_layer_2)    \n",
    "    \n",
    "    valid_prediction = tf.nn.softmax( tf.matmul(valid_relu2, weights) + biases) \n",
    "    \n",
    "    test_relu1 = tf.nn.relu( tf.matmul( tf_test_dataset, hidden_weights_layer_1) + hidden_biases_layer_1)\n",
    "    test_relu2 = tf.nn.relu( tf.matmul( test_relu1, hidden_weights_layer_2) + hidden_biases_layer_2)   \n",
    "    \n",
    "    test_prediction = tf.nn.softmax(tf.matmul(test_relu2, weights) + biases)\n",
    "    \n",
    "results = []\n",
    "with tf.Session(graph=graph) as session:\n",
    "    tf.initialize_all_variables().run()\n",
    "    print(\"Initialized\")\n",
    "    for step in range(num_steps):\n",
    "\n",
    "        offset = (step * batch_size) % (train_labels.shape[0] - batch_size)\n",
    "\n",
    "        batch_data = train_dataset[offset:(offset + batch_size), :]\n",
    "        batch_labels = train_labels[offset:(offset + batch_size), :]\n",
    "\n",
    "        _, l, predictions = session.run(\n",
    "            [\n",
    "                optimizer,\n",
    "                loss,\n",
    "                train_prediction\n",
    "            ],\n",
    "            feed_dict={\n",
    "                tf_train_dataset : batch_data,\n",
    "                tf_train_labels : batch_labels,\n",
    "                keep_prob_layer_1 : 0.5,\n",
    "                keep_prob_layer_2 : 0.25,\n",
    "                learnr : starter_learning_rate\n",
    "            }\n",
    "        )\n",
    "        \n",
    "        if (step % 500 == 0):\n",
    "            print(\"Minibatch loss at step %d: %f\" % (step, l))\n",
    "            print(\"Minibatch accuracy: %.1f%%\" % accuracy(predictions, batch_labels))\n",
    "            print(\"Validation accuracy: %.1f%%\" % accuracy(valid_prediction.eval(), valid_labels))\n",
    "            print(\"Test accuracy: %.1f%%\" % accuracy(test_prediction.eval(), test_labels))\n",
    "            print('')\n",
    "            results.append({\n",
    "                'minibatch': accuracy(predictions, batch_labels),\n",
    "                'validation':accuracy(valid_prediction.eval(), valid_labels),\n",
    "                'test': accuracy(test_prediction.eval(), test_labels)\n",
    "            })\n",
    "    print(\"Test accuracy: %.1f%%\" % accuracy(test_prediction.eval(), test_labels))\n",
    "\n",
    "\n",
    "results = pd.DataFrame(results)\n",
    "results.plot()"
   ]
  },
  {
   "cell_type": "code",
   "execution_count": null,
   "metadata": {
    "collapsed": true
   },
   "outputs": [],
   "source": []
  }
 ],
 "metadata": {
  "colab": {
   "default_view": {},
   "name": "3_regularization.ipynb",
   "provenance": [],
   "version": "0.3.2",
   "views": {}
  },
  "kernelspec": {
   "display_name": "Python 3",
   "language": "python",
   "name": "python3"
  },
  "language_info": {
   "codemirror_mode": {
    "name": "ipython",
    "version": 3
   },
   "file_extension": ".py",
   "mimetype": "text/x-python",
   "name": "python",
   "nbconvert_exporter": "python",
   "pygments_lexer": "ipython3",
   "version": "3.5.1"
  }
 },
 "nbformat": 4,
 "nbformat_minor": 0
}
